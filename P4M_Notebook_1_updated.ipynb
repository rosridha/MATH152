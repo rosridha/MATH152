{
  "nbformat": 4,
  "nbformat_minor": 0,
  "metadata": {
    "kernelspec": {
      "display_name": "Python 3",
      "language": "python",
      "name": "python3"
    },
    "language_info": {
      "codemirror_mode": {
        "name": "ipython",
        "version": 3
      },
      "file_extension": ".py",
      "mimetype": "text/x-python",
      "name": "python",
      "nbconvert_exporter": "python",
      "pygments_lexer": "ipython3",
      "version": "3.6.7"
    },
    "colab": {
      "name": "P4M_Notebook1.ipynb",
      "provenance": [],
      "toc_visible": true,
      "include_colab_link": true
    }
  },
  "cells": [
    {
      "cell_type": "markdown",
      "metadata": {
        "id": "view-in-github",
        "colab_type": "text"
      },
      "source": [
        "<a href=\"https://colab.research.google.com/github/rosridha/MATH152/blob/main/P4M_Notebook_1_updated.ipynb\" target=\"_parent\"><img src=\"https://colab.research.google.com/assets/colab-badge.svg\" alt=\"Open In Colab\"/></a>"
      ]
    },
    {
      "cell_type": "markdown",
      "metadata": {
        "id": "aLsfIWSoU5x_"
      },
      "source": [
        "#  Computing with Python:  an Introduction"
      ]
    },
    {
      "cell_type": "markdown",
      "metadata": {
        "id": "AXTRG_T1U5yD"
      },
      "source": [
        "Welcome to programming!\n",
        "\n",
        "What is the difference between *Python* and a calculator?  We begin this first lesson by showing how Python can be used **as** a calculator, and we move into one of the most important programming structures -- the **loop**.  Loops allow computers to carry out repetetive computations, with just a few commands.\n",
        "\n",
        "To navigate this notebook, you might wish to click on the Table of Contents icon (near top-left of the Google Colab window).  Then you can expand the sections to work on each one.\n",
        "\n",
        "Remember to save your work frequently on your personal GitHub repository.\n",
        "\n",
        "You do **not** need to complete every exercise to get full credit for this assignment.  Please **do** try to make it to the end of the notebook to learn all the concepts, and attempt as many exercises as time permits."
      ]
    },
    {
      "cell_type": "markdown",
      "metadata": {
        "id": "-y8Iz5LaU5yD"
      },
      "source": [
        "# Python as a calculator"
      ]
    },
    {
      "cell_type": "markdown",
      "metadata": {
        "id": "6rbqov7pU5yE"
      },
      "source": [
        "Different kinds of data are stored as different *types* in Python.  For example, if you wish to work with integers, your data is typically stored as an *int*.  A real number might be stored as a *float*.  There are types for booleans (True/False data), strings (like \"Hello World!\"), and many more we will see.  \n",
        "\n",
        "A more complete reference for Python's numerical types and arithmetic operations can be found in the [official Python documentation](https://docs.python.org/3/library/stdtypes.html).  The [official Python tutorial](https://docs.python.org/3/tutorial/introduction.html) is also a great place to start.\n",
        "\n",
        "Python allows you to perform arithmetic operations:  addition, subtraction, multiplication, and division, on numerical types.  The operation symbols are `+`, `-`, `*`, and `/`.   Evaluate each of the following cells to see how Python performs operations on *integers*.  \n",
        "\n",
        "To evaluate the cell, click anywhere within the cell to select it and use the keyboard shortcut *Shift-Enter* to evaluate.  But as you go through this and later lessons, try to *predict* what will happen when you evaluate the cell before you hit Shift-Enter.  Don't just click click click!  Think for a few seconds or a minute, and then Shift-Enter."
      ]
    },
    {
      "cell_type": "code",
      "metadata": {
        "scrolled": true,
        "id": "yqyWbMp-U5yE",
        "outputId": "66651a8b-08b0-406f-b418-1fd3ce026037",
        "colab": {
          "base_uri": "https://localhost:8080/"
        }
      },
      "source": [
        "2 + 3"
      ],
      "execution_count": null,
      "outputs": [
        {
          "output_type": "execute_result",
          "data": {
            "text/plain": [
              "5"
            ]
          },
          "metadata": {},
          "execution_count": 8
        }
      ]
    },
    {
      "cell_type": "code",
      "metadata": {
        "scrolled": true,
        "id": "ITtBZC2kU5yE",
        "outputId": "eb1dc19a-b1a4-4e65-d433-ac6184689831",
        "colab": {
          "base_uri": "https://localhost:8080/"
        }
      },
      "source": [
        "2 * 3"
      ],
      "execution_count": null,
      "outputs": [
        {
          "output_type": "execute_result",
          "data": {
            "text/plain": [
              "6"
            ]
          },
          "metadata": {},
          "execution_count": 7
        }
      ]
    },
    {
      "cell_type": "code",
      "metadata": {
        "id": "mS2JIy1oU5yE",
        "outputId": "38da1141-2839-42e5-bbfb-063ac51740b6",
        "colab": {
          "base_uri": "https://localhost:8080/"
        }
      },
      "source": [
        "5 - 11"
      ],
      "execution_count": null,
      "outputs": [
        {
          "output_type": "execute_result",
          "data": {
            "text/plain": [
              "-6"
            ]
          },
          "metadata": {},
          "execution_count": 6
        }
      ]
    },
    {
      "cell_type": "code",
      "metadata": {
        "id": "WRjeVm8rU5yF",
        "outputId": "0758955f-ed8b-4ba3-b40a-ce01a9b2b80d",
        "colab": {
          "base_uri": "https://localhost:8080/"
        }
      },
      "source": [
        "5.0 - 11"
      ],
      "execution_count": null,
      "outputs": [
        {
          "output_type": "execute_result",
          "data": {
            "text/plain": [
              "-6.0"
            ]
          },
          "metadata": {},
          "execution_count": 5
        }
      ]
    },
    {
      "cell_type": "code",
      "metadata": {
        "id": "Q9pdWY_hU5yF",
        "outputId": "04f53658-9706-4d62-f624-ed5a5431503a",
        "colab": {
          "base_uri": "https://localhost:8080/"
        }
      },
      "source": [
        "5 / 11"
      ],
      "execution_count": null,
      "outputs": [
        {
          "output_type": "execute_result",
          "data": {
            "text/plain": [
              "0.45454545454545453"
            ]
          },
          "metadata": {},
          "execution_count": 4
        }
      ]
    },
    {
      "cell_type": "code",
      "metadata": {
        "id": "TPzva1UXU5yF",
        "outputId": "8e5c6d05-da69-47d1-c575-01a8daf722dc",
        "colab": {
          "base_uri": "https://localhost:8080/"
        }
      },
      "source": [
        "6 / 3"
      ],
      "execution_count": null,
      "outputs": [
        {
          "output_type": "execute_result",
          "data": {
            "text/plain": [
              "2.0"
            ]
          },
          "metadata": {},
          "execution_count": 3
        }
      ]
    },
    {
      "cell_type": "code",
      "metadata": {
        "id": "GUmGnpHVU5yF",
        "outputId": "ec89fcea-0c63-4910-e71d-606a4f6ebc17",
        "colab": {
          "base_uri": "https://localhost:8080/"
        }
      },
      "source": [
        "5 // 11"
      ],
      "execution_count": null,
      "outputs": [
        {
          "output_type": "execute_result",
          "data": {
            "text/plain": [
              "0"
            ]
          },
          "metadata": {},
          "execution_count": 2
        }
      ]
    },
    {
      "cell_type": "code",
      "metadata": {
        "id": "JEXb5uPQU5yF",
        "outputId": "981d66eb-0d08-4dfa-b90c-a9105e2939f0",
        "colab": {
          "base_uri": "https://localhost:8080/"
        }
      },
      "source": [
        "6 // 3"
      ],
      "execution_count": null,
      "outputs": [
        {
          "output_type": "execute_result",
          "data": {
            "text/plain": [
              "2"
            ]
          },
          "metadata": {},
          "execution_count": 1
        }
      ]
    },
    {
      "cell_type": "markdown",
      "metadata": {
        "id": "o4t4Yw_XU5yF"
      },
      "source": [
        "The results are probably not too surprising, though the last two require a bit of explanation.  Python *interprets* the input number 5 as an *int* (integer) and 5.0 as a *float*.  \"Float\" stands for \"floating point number,\" which is a sort of decimal approximation to a real number.  The word \"float\" refers to the fact that the decimal (or binary, for computers) point can float around (as in 1.2345 or 12.345 or 123.45 or 1234.5 or 0.00012345).  There are deep computational issues related to how computers handle decimal approximations, and you can [read about the IEEE standards](https://en.wikipedia.org/wiki/IEEE_754) if you're interested.\n",
        "\n",
        "Python enables different kinds of division.  The single-slash division in Python 3.x gives a floating point approximation of the quotient.  That's why `5 / 11` and `6 / 3` both output floats.  On the other hand, `5 // 11` and `6 // 3` yield integer outputs (rounding down) -- this is useful, but one has to be careful!\n",
        "\n",
        "In fact the designers of Python changed their mind.  **This tutorial assumes that you are using Python 3.x.**  If you are using Python 2.x, the command `5 / 11` would output zero."
      ]
    },
    {
      "cell_type": "code",
      "metadata": {
        "id": "msOx7ga_U5yF",
        "outputId": "68a64823-0a96-4724-8778-95b75dc910f3",
        "colab": {
          "base_uri": "https://localhost:8080/"
        }
      },
      "source": [
        "-12 // 5  # What will this output?  Guess before evaluating!"
      ],
      "execution_count": null,
      "outputs": [
        {
          "output_type": "execute_result",
          "data": {
            "text/plain": [
              "-3"
            ]
          },
          "metadata": {},
          "execution_count": 9
        }
      ]
    },
    {
      "cell_type": "markdown",
      "metadata": {
        "id": "6m4OcRYfU5yG"
      },
      "source": [
        "Why use integer division `//` and why use floating point division?  In practice, integer division is typically a faster operation.  So if you only need the rounded result (and that will often be the case), use integer division.  It will run much faster than carrying out floating point division then manually rounding down.\n",
        "\n",
        "Observe that floating point operations involve approximation.  The result of `5.0/11.0` might not be what you expect in the last digit.  Over time, especially with repeated operations, *floating point approximation* errors can add up!"
      ]
    },
    {
      "cell_type": "markdown",
      "metadata": {
        "id": "uAyV-QWrU5yG"
      },
      "source": [
        "You might be wondering about the little [XX] and [XX] prompts in the code cells above.  What is their purpose?  Guess what the following line will do."
      ]
    },
    {
      "cell_type": "code",
      "metadata": {
        "id": "vgnp3B3JU5yG",
        "outputId": "4cf967eb-9c6f-4d07-d6eb-f4c11d249268",
        "colab": {
          "base_uri": "https://localhost:8080/"
        }
      },
      "source": [
        "Out[4] + Out[5]"
      ],
      "execution_count": null,
      "outputs": [
        {
          "output_type": "execute_result",
          "data": {
            "text/plain": [
              "-5.545454545454546"
            ]
          },
          "metadata": {},
          "execution_count": 10
        }
      ]
    },
    {
      "cell_type": "markdown",
      "metadata": {
        "id": "GgS8uA14U5yG"
      },
      "source": [
        "Cool, huh?  It's nice to have a record of previous computations, especially if you don't want to type something again.\n",
        "\n",
        "Python allows you to group expressions with parentheses, and follows the order of operations that you learn in school."
      ]
    },
    {
      "cell_type": "code",
      "metadata": {
        "id": "kE_p7LcGU5yG",
        "outputId": "51be6d4b-9d5c-45dc-dcbc-3197e33456db",
        "colab": {
          "base_uri": "https://localhost:8080/"
        }
      },
      "source": [
        "(3 + 4) * 5"
      ],
      "execution_count": null,
      "outputs": [
        {
          "output_type": "execute_result",
          "data": {
            "text/plain": [
              "35"
            ]
          },
          "metadata": {},
          "execution_count": 14
        }
      ]
    },
    {
      "cell_type": "code",
      "metadata": {
        "id": "n-hUvTxHU5yG",
        "outputId": "2e08ca72-d195-4cbd-f1fb-ed70af04915e",
        "colab": {
          "base_uri": "https://localhost:8080/"
        }
      },
      "source": [
        "3 + (4 * 5)"
      ],
      "execution_count": null,
      "outputs": [
        {
          "output_type": "execute_result",
          "data": {
            "text/plain": [
              "23"
            ]
          },
          "metadata": {},
          "execution_count": 13
        }
      ]
    },
    {
      "cell_type": "code",
      "metadata": {
        "id": "3E_z7E81U5yG",
        "outputId": "3f3030c1-b002-4744-b826-56572b919282",
        "colab": {
          "base_uri": "https://localhost:8080/"
        }
      },
      "source": [
        "3 + 4 * 5   #  What do you think will be the result?  Remember PEMDAS?"
      ],
      "execution_count": null,
      "outputs": [
        {
          "output_type": "execute_result",
          "data": {
            "text/plain": [
              "23"
            ]
          },
          "metadata": {},
          "execution_count": 12
        }
      ]
    },
    {
      "cell_type": "code",
      "source": [
        "4(1+3) # Python does not use \"implicit\" multiplication!  This should give an error."
      ],
      "metadata": {
        "id": "Azt9irrVLcE1",
        "outputId": "86164417-e161-44e4-f46c-dd16f80dc435",
        "colab": {
          "base_uri": "https://localhost:8080/",
          "height": 232
        }
      },
      "execution_count": null,
      "outputs": [
        {
          "output_type": "stream",
          "name": "stderr",
          "text": [
            "<>:1: SyntaxWarning: 'int' object is not callable; perhaps you missed a comma?\n",
            "<>:1: SyntaxWarning: 'int' object is not callable; perhaps you missed a comma?\n",
            "<ipython-input-11-686be9fd5e6b>:1: SyntaxWarning: 'int' object is not callable; perhaps you missed a comma?\n",
            "  4(1+3) # Python does not use \"implicit\" multiplication!  This should give an error.\n"
          ]
        },
        {
          "output_type": "error",
          "ename": "TypeError",
          "evalue": "ignored",
          "traceback": [
            "\u001b[0;31m---------------------------------------------------------------------------\u001b[0m",
            "\u001b[0;31mTypeError\u001b[0m                                 Traceback (most recent call last)",
            "\u001b[0;32m<ipython-input-11-686be9fd5e6b>\u001b[0m in \u001b[0;36m<module>\u001b[0;34m\u001b[0m\n\u001b[0;32m----> 1\u001b[0;31m \u001b[0;36m4\u001b[0m\u001b[0;34m(\u001b[0m\u001b[0;36m1\u001b[0m\u001b[0;34m+\u001b[0m\u001b[0;36m3\u001b[0m\u001b[0;34m)\u001b[0m \u001b[0;31m# Python does not use \"implicit\" multiplication!  This should give an error.\u001b[0m\u001b[0;34m\u001b[0m\u001b[0;34m\u001b[0m\u001b[0m\n\u001b[0m",
            "\u001b[0;31mTypeError\u001b[0m: 'int' object is not callable"
          ]
        }
      ]
    },
    {
      "cell_type": "markdown",
      "metadata": {
        "id": "lIFwbvWsU5yG"
      },
      "source": [
        "Now is a good time to try a few computations of your own, in the empty cell below.  You can type any Python commands you want in the empty cell.  If you want to insert a new cell into this notebook, just hover your cursor in the space between cells in Colab."
      ]
    },
    {
      "cell_type": "code",
      "metadata": {
        "id": "Rc5Lv9wLU5yH",
        "outputId": "1d335466-3921-451c-d46b-34ea7e514e9b",
        "colab": {
          "base_uri": "https://localhost:8080/"
        }
      },
      "source": [
        "#  An empty cell.  Have fun!\n",
        "4 * (1+3)"
      ],
      "execution_count": null,
      "outputs": [
        {
          "output_type": "execute_result",
          "data": {
            "text/plain": [
              "16"
            ]
          },
          "metadata": {},
          "execution_count": 15
        }
      ]
    },
    {
      "cell_type": "markdown",
      "metadata": {
        "id": "OkWlZNSSU5yH"
      },
      "source": [
        "For number theory, *division with remainder* is an operation of central importance.  Integer division provides the quotient, and the operation `%` provides the remainder.  It's a bit strange that the percent symbol is used for the remainder, but this [dates at least to the early 1970s](https://softwareengineering.stackexchange.com/questions/294297/in-what-programming-language-did-the-use-of-the-percent-sign-to-mean-modulo) and has become standard across computer languages."
      ]
    },
    {
      "cell_type": "code",
      "metadata": {
        "id": "xTWOi_XxU5yH",
        "outputId": "7791e319-5af6-4227-e122-9906921de56b",
        "colab": {
          "base_uri": "https://localhost:8080/"
        }
      },
      "source": [
        "23 // 5  # Integer division"
      ],
      "execution_count": null,
      "outputs": [
        {
          "output_type": "execute_result",
          "data": {
            "text/plain": [
              "4"
            ]
          },
          "metadata": {},
          "execution_count": 17
        }
      ]
    },
    {
      "cell_type": "code",
      "metadata": {
        "id": "UNjARp_xU5yH",
        "outputId": "1dfa3739-9829-46a5-855c-99d6dbe26df0",
        "colab": {
          "base_uri": "https://localhost:8080/"
        }
      },
      "source": [
        "23 % 5  # The remainder after division"
      ],
      "execution_count": null,
      "outputs": [
        {
          "output_type": "execute_result",
          "data": {
            "text/plain": [
              "3"
            ]
          },
          "metadata": {},
          "execution_count": 16
        }
      ]
    },
    {
      "cell_type": "markdown",
      "metadata": {
        "id": "WFrRvFgkU5yH"
      },
      "source": [
        "Note in the code above, there are little \"comments\".  To place a short comment on a line of code, just put a hashtag `#` at the end of the line of code, followed by your comment.\n",
        "\n",
        "Python gives a single command for division with remainder.  Its output is a *tuple*."
      ]
    },
    {
      "cell_type": "code",
      "metadata": {
        "id": "F2zJS-tRU5yH",
        "outputId": "bbfd7a3d-5a1e-4108-fba2-31966dda8bbb",
        "colab": {
          "base_uri": "https://localhost:8080/"
        }
      },
      "source": [
        "divmod(23,5)"
      ],
      "execution_count": null,
      "outputs": [
        {
          "output_type": "execute_result",
          "data": {
            "text/plain": [
              "(4, 3)"
            ]
          },
          "metadata": {},
          "execution_count": 23
        }
      ]
    },
    {
      "cell_type": "code",
      "metadata": {
        "id": "y3dckm2dU5yH",
        "outputId": "3a869468-4938-409d-fcc8-1bdc7c1411ab",
        "colab": {
          "base_uri": "https://localhost:8080/"
        }
      },
      "source": [
        "type(divmod(23,5))"
      ],
      "execution_count": null,
      "outputs": [
        {
          "output_type": "execute_result",
          "data": {
            "text/plain": [
              "tuple"
            ]
          },
          "metadata": {},
          "execution_count": 22
        }
      ]
    },
    {
      "cell_type": "markdown",
      "metadata": {
        "id": "0qVUgNJ2U5yH"
      },
      "source": [
        "All data in Python has a type, but a common complaint about Python is that types are a bit concealed \"under the hood\".  But they are not far under the hood!  Anyone can find out the type of some data with a single command."
      ]
    },
    {
      "cell_type": "code",
      "metadata": {
        "id": "TU1Cho4tU5yI",
        "outputId": "23e9ed89-1ae9-425b-a48b-ddaa94876d3a",
        "colab": {
          "base_uri": "https://localhost:8080/"
        }
      },
      "source": [
        "type(3)"
      ],
      "execution_count": null,
      "outputs": [
        {
          "output_type": "execute_result",
          "data": {
            "text/plain": [
              "int"
            ]
          },
          "metadata": {},
          "execution_count": 21
        }
      ]
    },
    {
      "cell_type": "code",
      "metadata": {
        "id": "OYALDWO5U5yI",
        "outputId": "f09e74f0-ad32-489f-baad-ab7e896f5e93",
        "colab": {
          "base_uri": "https://localhost:8080/"
        }
      },
      "source": [
        "type(3.0)"
      ],
      "execution_count": null,
      "outputs": [
        {
          "output_type": "execute_result",
          "data": {
            "text/plain": [
              "float"
            ]
          },
          "metadata": {},
          "execution_count": 20
        }
      ]
    },
    {
      "cell_type": "code",
      "metadata": {
        "id": "SHQ-_qcHU5yI",
        "outputId": "7c8aae8f-dc50-4bf6-bc0f-c25e1007a88a",
        "colab": {
          "base_uri": "https://localhost:8080/"
        }
      },
      "source": [
        "type('Hello')"
      ],
      "execution_count": null,
      "outputs": [
        {
          "output_type": "execute_result",
          "data": {
            "text/plain": [
              "str"
            ]
          },
          "metadata": {},
          "execution_count": 19
        }
      ]
    },
    {
      "cell_type": "code",
      "metadata": {
        "id": "nhf-YmD3U5yI",
        "outputId": "f757c44d-5715-453a-b010-e17f89d77fa2",
        "colab": {
          "base_uri": "https://localhost:8080/"
        }
      },
      "source": [
        "type([1,2,3])"
      ],
      "execution_count": null,
      "outputs": [
        {
          "output_type": "execute_result",
          "data": {
            "text/plain": [
              "list"
            ]
          },
          "metadata": {},
          "execution_count": 18
        }
      ]
    },
    {
      "cell_type": "markdown",
      "metadata": {
        "id": "tYWDszLmU5yI"
      },
      "source": [
        "The key to careful computation in Python is always being *aware of the type* of your data, and *knowing* how Python operates differently on data of different types."
      ]
    },
    {
      "cell_type": "code",
      "metadata": {
        "id": "Uc7eYJLWU5yI",
        "outputId": "e6d6e72a-40e8-4b04-cdd0-67f402cae77d",
        "colab": {
          "base_uri": "https://localhost:8080/"
        }
      },
      "source": [
        "3 + 3"
      ],
      "execution_count": null,
      "outputs": [
        {
          "output_type": "execute_result",
          "data": {
            "text/plain": [
              "6"
            ]
          },
          "metadata": {},
          "execution_count": 29
        }
      ]
    },
    {
      "cell_type": "code",
      "metadata": {
        "id": "jv6N6XLQU5yI",
        "outputId": "6c1a161f-321d-4516-ac0e-75430e378c0e",
        "colab": {
          "base_uri": "https://localhost:8080/"
        }
      },
      "source": [
        "3.0 + 3.0"
      ],
      "execution_count": null,
      "outputs": [
        {
          "output_type": "execute_result",
          "data": {
            "text/plain": [
              "6.0"
            ]
          },
          "metadata": {},
          "execution_count": 28
        }
      ]
    },
    {
      "cell_type": "code",
      "metadata": {
        "id": "KKF4Sv-jU5yI",
        "outputId": "db41a98f-38cb-4c04-c99c-c83f633cc615",
        "colab": {
          "base_uri": "https://localhost:8080/",
          "height": 37
        }
      },
      "source": [
        "'Hello' + 'World!'"
      ],
      "execution_count": null,
      "outputs": [
        {
          "output_type": "execute_result",
          "data": {
            "text/plain": [
              "'HelloWorld!'"
            ],
            "application/vnd.google.colaboratory.intrinsic+json": {
              "type": "string"
            }
          },
          "metadata": {},
          "execution_count": 27
        }
      ]
    },
    {
      "cell_type": "code",
      "metadata": {
        "id": "q9H__Z99U5yI",
        "outputId": "a70713f7-eb6f-4441-8ab5-e306b424a0f1",
        "colab": {
          "base_uri": "https://localhost:8080/"
        }
      },
      "source": [
        "[1,2,3] + [4,5,6]"
      ],
      "execution_count": null,
      "outputs": [
        {
          "output_type": "execute_result",
          "data": {
            "text/plain": [
              "[1, 2, 3, 4, 5, 6]"
            ]
          },
          "metadata": {},
          "execution_count": 26
        }
      ]
    },
    {
      "cell_type": "code",
      "metadata": {
        "id": "NDDAxeQJU5yJ",
        "outputId": "688fc9b5-4ac6-44e7-ccfd-79b02af9c988",
        "colab": {
          "base_uri": "https://localhost:8080/"
        }
      },
      "source": [
        "3 + 3.0"
      ],
      "execution_count": null,
      "outputs": [
        {
          "output_type": "execute_result",
          "data": {
            "text/plain": [
              "6.0"
            ]
          },
          "metadata": {},
          "execution_count": 25
        }
      ]
    },
    {
      "cell_type": "code",
      "metadata": {
        "id": "xuBj_w9_U5yJ",
        "outputId": "7c992f9c-bbb1-4747-c12d-6aca273ad7b7",
        "colab": {
          "base_uri": "https://localhost:8080/",
          "height": 164
        }
      },
      "source": [
        "3 + 'Hello!'  # Uh oh!"
      ],
      "execution_count": null,
      "outputs": [
        {
          "output_type": "error",
          "ename": "TypeError",
          "evalue": "ignored",
          "traceback": [
            "\u001b[0;31m---------------------------------------------------------------------------\u001b[0m",
            "\u001b[0;31mTypeError\u001b[0m                                 Traceback (most recent call last)",
            "\u001b[0;32m<ipython-input-24-dacf80a979a3>\u001b[0m in \u001b[0;36m<module>\u001b[0;34m\u001b[0m\n\u001b[0;32m----> 1\u001b[0;31m \u001b[0;36m3\u001b[0m \u001b[0;34m+\u001b[0m \u001b[0;34m'Hello!'\u001b[0m  \u001b[0;31m# Uh oh!\u001b[0m\u001b[0;34m\u001b[0m\u001b[0;34m\u001b[0m\u001b[0m\n\u001b[0m",
            "\u001b[0;31mTypeError\u001b[0m: unsupported operand type(s) for +: 'int' and 'str'"
          ]
        }
      ]
    },
    {
      "cell_type": "code",
      "metadata": {
        "id": "9P7roKZgU5yJ",
        "outputId": "7920f696-de3a-4edf-e0f2-a290d6895ad5",
        "colab": {
          "base_uri": "https://localhost:8080/"
        }
      },
      "source": [
        "#  An empty cell.  Have fun!\n",
        "#  Try operating on ints, floats, and strings, with different operations.  Which ones work?  How?\n",
        "5 + 3.5\n",
        "[1, 3, 5] + [2, 4, 6]"
      ],
      "execution_count": null,
      "outputs": [
        {
          "output_type": "execute_result",
          "data": {
            "text/plain": [
              "[1, 3, 5, 2, 4, 6]"
            ]
          },
          "metadata": {},
          "execution_count": 30
        }
      ]
    },
    {
      "cell_type": "markdown",
      "metadata": {
        "id": "1_2D8-NFU5yJ"
      },
      "source": [
        "As you can see, addition (the `+` operator) is interpreted differently in the contexts of numbers, strings, and lists.  The designers of Python allowed us to add *numbers* of different types:  if you try to operate on an *int* and a *float*, the *int* will typically be *coerced* into a float in order to perform the operation.  But the designers of Python did not give meaning to the addition of a number with a string, for example.  That's why you probably received a *TypeError* after trying to add a number to a string. \n",
        "\n",
        "On the other hand, Python does interpret *multiplication* of a natural number with a string or a list."
      ]
    },
    {
      "cell_type": "code",
      "metadata": {
        "id": "MmRfXepMU5yJ",
        "outputId": "b40ee051-3c31-4179-a87c-060f2690ebf5",
        "colab": {
          "base_uri": "https://localhost:8080/",
          "height": 37
        }
      },
      "source": [
        "3 * 'Hello!'"
      ],
      "execution_count": null,
      "outputs": [
        {
          "output_type": "execute_result",
          "data": {
            "text/plain": [
              "'Hello!Hello!Hello!'"
            ],
            "application/vnd.google.colaboratory.intrinsic+json": {
              "type": "string"
            }
          },
          "metadata": {},
          "execution_count": 33
        }
      ]
    },
    {
      "cell_type": "code",
      "metadata": {
        "id": "gVo2bjWzU5yJ",
        "outputId": "029b7a9d-7f56-4be1-fccf-29bf386c89be",
        "colab": {
          "base_uri": "https://localhost:8080/",
          "height": 37
        }
      },
      "source": [
        "0 * 'Hello!'"
      ],
      "execution_count": null,
      "outputs": [
        {
          "output_type": "execute_result",
          "data": {
            "text/plain": [
              "''"
            ],
            "application/vnd.google.colaboratory.intrinsic+json": {
              "type": "string"
            }
          },
          "metadata": {},
          "execution_count": 32
        }
      ]
    },
    {
      "cell_type": "code",
      "metadata": {
        "id": "OqWWK6VWU5yJ",
        "outputId": "b7f87c2d-0298-4d18-a92d-82199ec0385e",
        "colab": {
          "base_uri": "https://localhost:8080/"
        }
      },
      "source": [
        "2 * [1,2,3]"
      ],
      "execution_count": null,
      "outputs": [
        {
          "output_type": "execute_result",
          "data": {
            "text/plain": [
              "[1, 2, 3, 1, 2, 3]"
            ]
          },
          "metadata": {},
          "execution_count": 31
        }
      ]
    },
    {
      "cell_type": "markdown",
      "metadata": {
        "id": "Z28hpoAjU5yJ"
      },
      "source": [
        "Can you create a string with 100 A's (like `AAA...`)?  Use an appropriate operation in the cell below."
      ]
    },
    {
      "cell_type": "code",
      "metadata": {
        "id": "fAxwL5O3U5yJ",
        "outputId": "95eb918e-5333-4067-83ed-20786cf7e477",
        "colab": {
          "base_uri": "https://localhost:8080/",
          "height": 37
        }
      },
      "source": [
        "#  Practice cell\n",
        "'A' * 100"
      ],
      "execution_count": null,
      "outputs": [
        {
          "output_type": "execute_result",
          "data": {
            "text/plain": [
              "'AAAAAAAAAAAAAAAAAAAAAAAAAAAAAAAAAAAAAAAAAAAAAAAAAAAAAAAAAAAAAAAAAAAAAAAAAAAAAAAAAAAAAAAAAAAAAAAAAAAA'"
            ],
            "application/vnd.google.colaboratory.intrinsic+json": {
              "type": "string"
            }
          },
          "metadata": {},
          "execution_count": 34
        }
      ]
    },
    {
      "cell_type": "markdown",
      "metadata": {
        "id": "nHp8b6_8U5yJ"
      },
      "source": [
        "Exponents in Python are given by the `**` operator.  The following lines compute 2 to the 1000th power, in two different ways."
      ]
    },
    {
      "cell_type": "code",
      "metadata": {
        "id": "VNDmF-hcU5yK",
        "outputId": "271b8906-2119-4432-cd60-d33613ccba6e",
        "colab": {
          "base_uri": "https://localhost:8080/"
        }
      },
      "source": [
        "2**1000"
      ],
      "execution_count": null,
      "outputs": [
        {
          "output_type": "execute_result",
          "data": {
            "text/plain": [
              "10715086071862673209484250490600018105614048117055336074437503883703510511249361224931983788156958581275946729175531468251871452856923140435984577574698574803934567774824230985421074605062371141877954182153046474983581941267398767559165543946077062914571196477686542167660429831652624386837205668069376"
            ]
          },
          "metadata": {},
          "execution_count": 36
        }
      ]
    },
    {
      "cell_type": "code",
      "metadata": {
        "id": "DEHGNQ3RU5yK",
        "outputId": "5d90f1b3-8d60-4b3f-95c1-97e6666748e4",
        "colab": {
          "base_uri": "https://localhost:8080/"
        }
      },
      "source": [
        "2.0**1000"
      ],
      "execution_count": null,
      "outputs": [
        {
          "output_type": "execute_result",
          "data": {
            "text/plain": [
              "1.0715086071862673e+301"
            ]
          },
          "metadata": {},
          "execution_count": 35
        }
      ]
    },
    {
      "cell_type": "markdown",
      "metadata": {
        "id": "O1bSyFFJU5yK"
      },
      "source": [
        "As before, Python interprets an operation (`**`) differently in different contexts.  When given integer input, Python evaluates `2**1000` **exactly**.  The result is a large integer.  A nice fact about Python, for mathematicians, is that it handles exact integers of arbitrary length!  Many other programming languages (like C++) will give an error message if integers get too large in the midst of a computation.  \n",
        "\n",
        "New in version 3.x, Python implements long integers without giving signals to the programmer or changing types.  In Python 2.x, there were two types: *int* for somewhat small integers (e.g., up to $2^{31}$) and *long* type for all larger integers.  Python 2.x would signal which type of integer was being used, by placing the letter \"L\" at the end of a long integer.  Now, in Python 3.x, the programmer doesn't really see the difference.  There is only the *int* type.  But Python still optimizes computations, using hardware functionality for arithmetic of small integers and custom routines for large integers.  The programmer doesn't have to worry about it most of the time.\n",
        "\n",
        "For scientific applications, one often wants to keep track of only a certain number of significant digits (sig figs).  If one computes the floating point exponent `2.0**1000`, the result is a decimal approximation.  It is still a float.  The expression \"e+301\" stands for \"multiplied by 10 to the 301st power\", i.e., Python uses *scientific notation* for large floats."
      ]
    },
    {
      "cell_type": "code",
      "metadata": {
        "id": "gbiP5lpxU5yK",
        "outputId": "2a7e61e0-2805-4c3a-df3d-cc0e7edc7672",
        "colab": {
          "base_uri": "https://localhost:8080/"
        }
      },
      "source": [
        "type(2**1000)"
      ],
      "execution_count": null,
      "outputs": [
        {
          "output_type": "execute_result",
          "data": {
            "text/plain": [
              "int"
            ]
          },
          "metadata": {},
          "execution_count": 38
        }
      ]
    },
    {
      "cell_type": "code",
      "metadata": {
        "id": "oYFQ7ZxFU5yL",
        "outputId": "ad55a331-2b18-4a3e-dc75-87ae19e7063a",
        "colab": {
          "base_uri": "https://localhost:8080/"
        }
      },
      "source": [
        "type(2.0**1000)"
      ],
      "execution_count": null,
      "outputs": [
        {
          "output_type": "execute_result",
          "data": {
            "text/plain": [
              "float"
            ]
          },
          "metadata": {},
          "execution_count": 37
        }
      ]
    },
    {
      "cell_type": "code",
      "metadata": {
        "id": "MtmwQzLgU5yL",
        "outputId": "09c6789f-5a89-4b7d-d5b9-ee25ecdec7bc",
        "colab": {
          "base_uri": "https://localhost:8080/"
        }
      },
      "source": [
        "#  An empty cell.  Have fun!\n",
        "type([1, 2, 3])"
      ],
      "execution_count": null,
      "outputs": [
        {
          "output_type": "execute_result",
          "data": {
            "text/plain": [
              "list"
            ]
          },
          "metadata": {},
          "execution_count": 39
        }
      ]
    },
    {
      "cell_type": "markdown",
      "metadata": {
        "id": "hu0LPXNLU5yL"
      },
      "source": [
        "Now is a good time for reflection.  Double-click in the cell below to answer the given questions.  Cells like this one are used for text rather than Python code.  Text is entered using *markdown*, but you can typically just enter text as you would in any text editor without problems.  Press *shift-Enter* after editing a text cell to complete the editing process.  "
      ]
    },
    {
      "cell_type": "markdown",
      "metadata": {
        "id": "QLyCVcXoU5yL"
      },
      "source": [
        "### Exercises\n",
        "\n",
        "1.  What data types have you seen, and what kinds of data are they used for?  Can you remember them without looking back?\n",
        "\n",
        "2.  How is division `/` interpreted differently for different types of data?\n",
        "\n",
        "3.  How is multiplication `*` interpreted differently for different types of data?\n",
        "\n",
        "4.  What is the difference between 100 and 100.0, for Python?"
      ]
    },
    {
      "cell_type": "markdown",
      "metadata": {
        "id": "KDzM72ZXU5yL"
      },
      "source": [
        "Double-click this text cell to edit it, and answer the exercises.  This **may be graded**, so please complete all questions!  Write in clear, complete, and concise sentences.\n",
        "\n",
        "1. We saw strings, lists, ints, and floats. Strings are for characters like 'abc123' lists are arrays full of data, like [1, 'a', 2], ints are whole numbers, corresponding to their numerical value, and floats are numbers with decimal points, corresponding to their numerical values.\n",
        "\n",
        "2. '/' works as expected between floats and ints, however, it doesn't work with strings, or lists.\n",
        "\n",
        "3. '*' works like multiplication as expected between floats and ints. however, when used with strings or lists, it just prints out that string or list as many times as specified. You cannot multiply two strings or lists together.\n",
        "\n",
        "4. In python, 100 is a int data type, while 100.0 is a float data type."
      ]
    },
    {
      "cell_type": "markdown",
      "metadata": {
        "id": "0jhkZ5zhU5yL"
      },
      "source": [
        "# Calculating with booleans"
      ]
    },
    {
      "cell_type": "markdown",
      "metadata": {
        "id": "IAb0HST5U5yM"
      },
      "source": [
        "A *boolean* (type *bool*) is the smallest possible piece of data.  While an *int* can be any integer, positive or negative, a *boolean* can only be one of two things:  *True* or *False*.  In this way, booleans are useful for storing the answers to yes/no questions.  \n",
        "\n",
        "Questions about (in)equality of numbers are answered in Python by *operations* with numerical input and boolean output.  Here are some examples.  A more complete reference is [in the official Python documentation](https://docs.python.org/3/library/stdtypes.html#boolean-operations-and-or-not)."
      ]
    },
    {
      "cell_type": "code",
      "metadata": {
        "id": "AqNG6PZBU5yM",
        "outputId": "18a4a80c-36c2-4a52-8578-6a5885708ca0",
        "colab": {
          "base_uri": "https://localhost:8080/"
        }
      },
      "source": [
        "3 > 2"
      ],
      "execution_count": null,
      "outputs": [
        {
          "output_type": "execute_result",
          "data": {
            "text/plain": [
              "True"
            ]
          },
          "metadata": {},
          "execution_count": 46
        }
      ]
    },
    {
      "cell_type": "code",
      "metadata": {
        "id": "nOgi4gqUU5yM",
        "outputId": "0813b084-a81c-4c7e-c017-f19cb42dcd17",
        "colab": {
          "base_uri": "https://localhost:8080/"
        }
      },
      "source": [
        "type(3 > 2)"
      ],
      "execution_count": null,
      "outputs": [
        {
          "output_type": "execute_result",
          "data": {
            "text/plain": [
              "bool"
            ]
          },
          "metadata": {},
          "execution_count": 45
        }
      ]
    },
    {
      "cell_type": "code",
      "metadata": {
        "id": "WabkpXPbU5yM",
        "outputId": "b8a47f52-db18-41cf-8b31-c1794795646d",
        "colab": {
          "base_uri": "https://localhost:8080/"
        }
      },
      "source": [
        "10 < 3"
      ],
      "execution_count": null,
      "outputs": [
        {
          "output_type": "execute_result",
          "data": {
            "text/plain": [
              "False"
            ]
          },
          "metadata": {},
          "execution_count": 44
        }
      ]
    },
    {
      "cell_type": "code",
      "metadata": {
        "id": "Mohc3o5oU5yM",
        "outputId": "d4db4488-b793-4884-812c-a4f786572fb9",
        "colab": {
          "base_uri": "https://localhost:8080/"
        }
      },
      "source": [
        "2.4 < 2.4000001"
      ],
      "execution_count": null,
      "outputs": [
        {
          "output_type": "execute_result",
          "data": {
            "text/plain": [
              "True"
            ]
          },
          "metadata": {},
          "execution_count": 43
        }
      ]
    },
    {
      "cell_type": "code",
      "metadata": {
        "id": "jnrzq17fU5yM",
        "outputId": "f7e54bc5-0716-4dcd-da91-077c7f5f9c52",
        "colab": {
          "base_uri": "https://localhost:8080/"
        }
      },
      "source": [
        "32 >= 32"
      ],
      "execution_count": null,
      "outputs": [
        {
          "output_type": "execute_result",
          "data": {
            "text/plain": [
              "True"
            ]
          },
          "metadata": {},
          "execution_count": 42
        }
      ]
    },
    {
      "cell_type": "code",
      "metadata": {
        "id": "D55td8J7U5yM",
        "outputId": "ea938e06-a5ac-497b-849f-5d9a47376c70",
        "colab": {
          "base_uri": "https://localhost:8080/"
        }
      },
      "source": [
        "32 >= 31"
      ],
      "execution_count": null,
      "outputs": [
        {
          "output_type": "execute_result",
          "data": {
            "text/plain": [
              "True"
            ]
          },
          "metadata": {},
          "execution_count": 41
        }
      ]
    },
    {
      "cell_type": "code",
      "metadata": {
        "id": "L0RlreGLU5yM",
        "outputId": "a2ed0f7f-38b4-4c4d-f4ac-5caa704ffe78",
        "colab": {
          "base_uri": "https://localhost:8080/"
        }
      },
      "source": [
        "2 + 2 == 4"
      ],
      "execution_count": null,
      "outputs": [
        {
          "output_type": "execute_result",
          "data": {
            "text/plain": [
              "True"
            ]
          },
          "metadata": {},
          "execution_count": 40
        }
      ]
    },
    {
      "cell_type": "markdown",
      "metadata": {
        "id": "_f2QoYJ-U5yM"
      },
      "source": [
        "Which number is bigger:  $23^{32}$ or $32^{23}$?  Use the cell below to answer the question!"
      ]
    },
    {
      "cell_type": "code",
      "metadata": {
        "id": "PGlksxncU5yN",
        "outputId": "f2743739-f4c2-46a5-a071-64b55b26b5a0",
        "colab": {
          "base_uri": "https://localhost:8080/"
        }
      },
      "source": [
        "#  Write your code here.\n",
        "23**32 < 32**23 # This means that 23**32 is the bigger number"
      ],
      "execution_count": null,
      "outputs": [
        {
          "output_type": "execute_result",
          "data": {
            "text/plain": [
              "False"
            ]
          },
          "metadata": {},
          "execution_count": 47
        }
      ]
    },
    {
      "cell_type": "markdown",
      "metadata": {
        "id": "KTiAVQ0qU5yN"
      },
      "source": [
        "The expressions `<`, `>`, `<=`, `>=` are interpreted here as **operations** with numerical input and boolean output.  The symbol `==` (two equal symbols!) gives a True result if the numbers are equal, and False if the numbers are not equal.  An extremely common typo is to confuse `=` with `==`.  But the single equality symbol `=` has an entirely different meaning, as we shall see."
      ]
    },
    {
      "cell_type": "markdown",
      "metadata": {
        "id": "3atYTyAnU5yN"
      },
      "source": [
        "Using the remainder operator `%` and equality, we obtain a divisibility test."
      ]
    },
    {
      "cell_type": "code",
      "metadata": {
        "id": "t1BCq6GFU5yN",
        "outputId": "e3b5ed03-e4dc-4756-d5bb-852e292d3b0f",
        "colab": {
          "base_uri": "https://localhost:8080/"
        }
      },
      "source": [
        "63 % 7 == 0  # Is 63 divisible by 7?"
      ],
      "execution_count": null,
      "outputs": [
        {
          "output_type": "execute_result",
          "data": {
            "text/plain": [
              "True"
            ]
          },
          "metadata": {},
          "execution_count": 49
        }
      ]
    },
    {
      "cell_type": "code",
      "metadata": {
        "id": "kYz8XfraU5yN",
        "outputId": "23c59c15-bd25-486d-dc11-72fd9a871998",
        "colab": {
          "base_uri": "https://localhost:8080/"
        }
      },
      "source": [
        "101 % 2 == 0  # Is 101 even?"
      ],
      "execution_count": null,
      "outputs": [
        {
          "output_type": "execute_result",
          "data": {
            "text/plain": [
              "False"
            ]
          },
          "metadata": {},
          "execution_count": 48
        }
      ]
    },
    {
      "cell_type": "markdown",
      "metadata": {
        "id": "0Iikx3JZU5yN"
      },
      "source": [
        "Use the cell below to determine whether 1234567890 is divisible by 3."
      ]
    },
    {
      "cell_type": "code",
      "metadata": {
        "id": "LPqBN_VlU5yN",
        "outputId": "b65e2292-1c3e-4972-95d6-606084db56f0",
        "colab": {
          "base_uri": "https://localhost:8080/"
        }
      },
      "source": [
        "# Your code goes here.\n",
        "1234567890 % 3 == 0 # This returns true, so this number is divisible by 3"
      ],
      "execution_count": null,
      "outputs": [
        {
          "output_type": "execute_result",
          "data": {
            "text/plain": [
              "True"
            ]
          },
          "metadata": {},
          "execution_count": 50
        }
      ]
    },
    {
      "cell_type": "markdown",
      "metadata": {
        "id": "Tvle2bwdU5yN"
      },
      "source": [
        "Booleans can be operated on by the standard logical operations: and, or, not.  In ordinary English usage, \"and\" and \"or\" are conjunctions, while here in *Boolean algebra*, \"and\" and \"or\" are operations with Boolean inputs and Boolean output.  The precise meanings of \"and\" and \"or\" are given by the following **truth tables**.\n",
        "\n",
        "    \n",
        "| and | True | False |\n",
        "|-----|------|-------|\n",
        "| **True** | True | False |\n",
        "| **False** | False | False|\n",
        "\n",
        "<br>\n",
        "  \n",
        "| or | True | False |\n",
        "|-----|------|-------|\n",
        "| **True** | True | True |\n",
        "| **False** | True | False|"
      ]
    },
    {
      "cell_type": "code",
      "metadata": {
        "id": "eRo1A6IzU5yN",
        "outputId": "864b35b7-32ba-41ee-ecb6-df9ca7d846fa",
        "colab": {
          "base_uri": "https://localhost:8080/"
        }
      },
      "source": [
        "True and False"
      ],
      "execution_count": null,
      "outputs": [
        {
          "output_type": "execute_result",
          "data": {
            "text/plain": [
              "False"
            ]
          },
          "metadata": {},
          "execution_count": 54
        }
      ]
    },
    {
      "cell_type": "code",
      "metadata": {
        "id": "sFMWK-0HU5yN",
        "outputId": "79caa2b5-5750-4d10-dd01-a8e40fbbaf0a",
        "colab": {
          "base_uri": "https://localhost:8080/"
        }
      },
      "source": [
        "True or False"
      ],
      "execution_count": null,
      "outputs": [
        {
          "output_type": "execute_result",
          "data": {
            "text/plain": [
              "True"
            ]
          },
          "metadata": {},
          "execution_count": 53
        }
      ]
    },
    {
      "cell_type": "code",
      "metadata": {
        "id": "5bREtxzOU5yN",
        "outputId": "61b45266-968f-4bc9-832e-15c96da3e23e",
        "colab": {
          "base_uri": "https://localhost:8080/"
        }
      },
      "source": [
        "True or True"
      ],
      "execution_count": null,
      "outputs": [
        {
          "output_type": "execute_result",
          "data": {
            "text/plain": [
              "True"
            ]
          },
          "metadata": {},
          "execution_count": 52
        }
      ]
    },
    {
      "cell_type": "code",
      "metadata": {
        "id": "DP0Rw6jDU5yO",
        "outputId": "850199ae-c5b9-4afd-dfbf-9c37793274ac",
        "colab": {
          "base_uri": "https://localhost:8080/"
        }
      },
      "source": [
        "not True"
      ],
      "execution_count": null,
      "outputs": [
        {
          "output_type": "execute_result",
          "data": {
            "text/plain": [
              "False"
            ]
          },
          "metadata": {},
          "execution_count": 51
        }
      ]
    },
    {
      "cell_type": "markdown",
      "metadata": {
        "id": "DRKe3Jv8U5yO"
      },
      "source": [
        "Use the truth tables to predict the result (True or False) of each of the following, before evaluating the code."
      ]
    },
    {
      "cell_type": "code",
      "metadata": {
        "id": "NVKb_6njU5yO",
        "outputId": "dcb835d2-7af5-435b-b0c8-b9dd3bca5edf",
        "colab": {
          "base_uri": "https://localhost:8080/"
        }
      },
      "source": [
        "(2 > 3) and (3 > 2)"
      ],
      "execution_count": null,
      "outputs": [
        {
          "output_type": "execute_result",
          "data": {
            "text/plain": [
              "False"
            ]
          },
          "metadata": {},
          "execution_count": 61
        }
      ]
    },
    {
      "cell_type": "code",
      "metadata": {
        "id": "JrprEal6U5yO",
        "outputId": "3291c440-ac4a-432d-a3c9-9a08977ab7d3",
        "colab": {
          "base_uri": "https://localhost:8080/"
        }
      },
      "source": [
        "(1 + 1 == 2) or (1 + 1 == 3)"
      ],
      "execution_count": null,
      "outputs": [
        {
          "output_type": "execute_result",
          "data": {
            "text/plain": [
              "True"
            ]
          },
          "metadata": {},
          "execution_count": 60
        }
      ]
    },
    {
      "cell_type": "code",
      "metadata": {
        "scrolled": true,
        "id": "Ef-ryEGjU5yO",
        "outputId": "c5070698-f943-4699-df0a-ea5ceb45b19f",
        "colab": {
          "base_uri": "https://localhost:8080/"
        }
      },
      "source": [
        "not (-1 + 1 >= 0)"
      ],
      "execution_count": null,
      "outputs": [
        {
          "output_type": "execute_result",
          "data": {
            "text/plain": [
              "False"
            ]
          },
          "metadata": {},
          "execution_count": 59
        }
      ]
    },
    {
      "cell_type": "code",
      "metadata": {
        "id": "FUSY_QuLU5yO",
        "outputId": "38cfd952-58e4-43c5-aedc-81ebfd9c4f2f",
        "colab": {
          "base_uri": "https://localhost:8080/"
        }
      },
      "source": [
        "2 + 2 == 4"
      ],
      "execution_count": null,
      "outputs": [
        {
          "output_type": "execute_result",
          "data": {
            "text/plain": [
              "True"
            ]
          },
          "metadata": {},
          "execution_count": 58
        }
      ]
    },
    {
      "cell_type": "code",
      "metadata": {
        "id": "hKTk4LjaU5yO",
        "outputId": "add1ee9e-91e6-4335-e203-7bba2cc04569",
        "colab": {
          "base_uri": "https://localhost:8080/"
        }
      },
      "source": [
        "2 + 2 != 4  # For \"not equal\", Python uses the operation `!=`."
      ],
      "execution_count": null,
      "outputs": [
        {
          "output_type": "execute_result",
          "data": {
            "text/plain": [
              "False"
            ]
          },
          "metadata": {},
          "execution_count": 57
        }
      ]
    },
    {
      "cell_type": "code",
      "metadata": {
        "id": "UsJtoToLU5yO",
        "outputId": "38e5ccb3-8e62-4179-f4bd-0b6c70de65ad",
        "colab": {
          "base_uri": "https://localhost:8080/"
        }
      },
      "source": [
        "2 + 2 != 5  # Is 2+2 *not* equal to 5?"
      ],
      "execution_count": null,
      "outputs": [
        {
          "output_type": "execute_result",
          "data": {
            "text/plain": [
              "True"
            ]
          },
          "metadata": {},
          "execution_count": 56
        }
      ]
    },
    {
      "cell_type": "code",
      "metadata": {
        "id": "tVfKlWT_U5yO",
        "outputId": "c95f39c8-9c1b-4c41-f008-c94c89890d76",
        "colab": {
          "base_uri": "https://localhost:8080/"
        }
      },
      "source": [
        "not (2 + 2 == 5)  # The same as above, but a bit longer to write."
      ],
      "execution_count": null,
      "outputs": [
        {
          "output_type": "execute_result",
          "data": {
            "text/plain": [
              "True"
            ]
          },
          "metadata": {},
          "execution_count": 55
        }
      ]
    },
    {
      "cell_type": "markdown",
      "metadata": {
        "id": "uwxFqT9uU5yO"
      },
      "source": [
        "Experiment below to see how Python handles a double or triple negative, i.e., something with a `not` `not`."
      ]
    },
    {
      "cell_type": "code",
      "metadata": {
        "id": "nD-RgY0CU5yP",
        "outputId": "1dcb7b86-163e-4070-9cd9-53a384265c39",
        "colab": {
          "base_uri": "https://localhost:8080/"
        }
      },
      "source": [
        "# Experiment here.\n",
        "not not True\n",
        "not not not False"
      ],
      "execution_count": null,
      "outputs": [
        {
          "output_type": "execute_result",
          "data": {
            "text/plain": [
              "True"
            ]
          },
          "metadata": {},
          "execution_count": 63
        }
      ]
    },
    {
      "cell_type": "markdown",
      "metadata": {
        "id": "5xxO21m1U5yP"
      },
      "source": [
        "Python does give an interpretation to arithmetic operations with booleans and numbers.  Try to guess this interpretation with the following examples.  Change the examples to experiment!"
      ]
    },
    {
      "cell_type": "code",
      "metadata": {
        "id": "Y2lLPpdWU5yP",
        "outputId": "de507e63-59bf-47f3-d738-96395d0dea36",
        "colab": {
          "base_uri": "https://localhost:8080/"
        }
      },
      "source": [
        "False * 100"
      ],
      "execution_count": null,
      "outputs": [
        {
          "output_type": "execute_result",
          "data": {
            "text/plain": [
              "0"
            ]
          },
          "metadata": {},
          "execution_count": 64
        }
      ]
    },
    {
      "cell_type": "code",
      "metadata": {
        "id": "5y3rtwrdU5yP",
        "outputId": "e9ed1066-a03a-409d-b057-4dcb16a1119e",
        "colab": {
          "base_uri": "https://localhost:8080/"
        }
      },
      "source": [
        "True + 13"
      ],
      "execution_count": null,
      "outputs": [
        {
          "output_type": "execute_result",
          "data": {
            "text/plain": [
              "14"
            ]
          },
          "metadata": {},
          "execution_count": 65
        }
      ]
    },
    {
      "cell_type": "markdown",
      "metadata": {
        "id": "QOkU3A_fU5yP"
      },
      "source": [
        "This ability of Python to interpret operations based on context is a mixed blessing.  On one hand, it leads to handy shortcuts -- quick ways of writing complicated programs.  On the other hand, it can lead to code that is harder to read, especially for a Python novice.  Good programmers aim for code that is easy to read, not just short!\n",
        "\n",
        "The [Zen of Python](https://www.python.org/dev/peps/pep-0020/) is a series of 20 aphorisms for Python programmers.  The first seven are below.\n",
        "\n",
        "> Beautiful is better than ugly.\n",
        "\n",
        "> Explicit is better than implicit.\n",
        "\n",
        "> Simple is better than complex.\n",
        "\n",
        "> Complex is better than complicated.\n",
        "\n",
        "> Flat is better than nested.\n",
        "\n",
        "> Sparse is better than dense.\n",
        "\n",
        "> Readability counts."
      ]
    },
    {
      "cell_type": "markdown",
      "metadata": {
        "id": "_5mUQ1tCU5yP"
      },
      "source": [
        "### Exercises\n",
        "\n",
        "1.  Did you look at the truth tables closely?  Can you remember, from memory, what `True or False` equals, or what `True and False` equals?  \n",
        "\n",
        "2.  How might you easily remember the truth tables?  How do they resemble the standard English usage of the words \"and\" and \"or\"?\n",
        "\n",
        "3.  If you wanted to know whether a number, like 2349872348723, is a multiple of 7 but **not** a multiple of 11, how might you write this in one line of Python code?\n",
        "\n",
        "4.  You can chain together `and` commands, e.g., with an expression like `True and True and True` (which would evaluate to `True`).  You can also group booleans, e.g., with `True and (True or False)`.  Experiment to figure out the order of operations (`and`, `or`, `not`) for booleans.\n",
        "\n",
        "6.  The operation `xor` means \"exclusive or\".  Its truth table is: `True xor True = False` and `False xor False = False` and `True xor False = True` and `False xor True = True`.  How might you implement `xor` in terms of the usual `and`, `or`, and `not`?\n",
        "\n"
      ]
    },
    {
      "cell_type": "markdown",
      "metadata": {
        "id": "owWkn3ieU5yP"
      },
      "source": [
        "###  Solutions\n",
        "\n",
        "(Edit here to give solutions to the exercises)\n",
        "\n",
        "1. True or False = True. True and False = False\n",
        "\n",
        "2. It is actually very easy to remember truth tables because the logic corresponds to how you would think about it in English\n",
        "\n",
        "3. 2349872348723 % 7 == 0 and not 2349872348723 % 11 == 0\n",
        "\n",
        "4. not, and, or\n",
        "\n",
        "5. xor can be used in place of not and or. It can be thought of 'mutually exclusive' when comparing two logical operations."
      ]
    },
    {
      "cell_type": "markdown",
      "metadata": {
        "id": "k69tL17JU5yP"
      },
      "source": [
        "# Declaring variables"
      ]
    },
    {
      "cell_type": "markdown",
      "metadata": {
        "id": "UjI-5d00U5yP"
      },
      "source": [
        "A central feature of programming is the declaration of variables.  When you declare a variable, you are *storing* data in the computer's *memory* and you are assigning a *name* to that data.  Both storage and name-assignment are carried out with the *single* equality symbol =."
      ]
    },
    {
      "cell_type": "code",
      "metadata": {
        "id": "hkwJHNVpU5yQ"
      },
      "source": [
        "e = 2.71828"
      ],
      "execution_count": null,
      "outputs": []
    },
    {
      "cell_type": "markdown",
      "metadata": {
        "id": "gY-LejB4U5yQ"
      },
      "source": [
        "With this command, the float 2.71828 is stored somewhere inside your computer, and Python can access this stored number by the name \"e\" thereafter.  So if you want to compute \"e squared\", a single command will do."
      ]
    },
    {
      "cell_type": "code",
      "metadata": {
        "id": "2ZJ7VtIwU5yQ",
        "outputId": "7e0cbfd3-5df5-47f6-9de1-5bbd0dd01806",
        "colab": {
          "base_uri": "https://localhost:8080/"
        }
      },
      "source": [
        "e * e"
      ],
      "execution_count": null,
      "outputs": [
        {
          "output_type": "execute_result",
          "data": {
            "text/plain": [
              "7.3890461584"
            ]
          },
          "metadata": {},
          "execution_count": 67
        }
      ]
    },
    {
      "cell_type": "code",
      "metadata": {
        "id": "G46Ma5fCU5yQ",
        "outputId": "040dd334-4837-46d4-c0e9-efa76d048abd",
        "colab": {
          "base_uri": "https://localhost:8080/"
        }
      },
      "source": [
        "type(e)"
      ],
      "execution_count": null,
      "outputs": [
        {
          "output_type": "execute_result",
          "data": {
            "text/plain": [
              "float"
            ]
          },
          "metadata": {},
          "execution_count": 68
        }
      ]
    },
    {
      "cell_type": "markdown",
      "metadata": {
        "id": "cWVyUzZxU5yQ"
      },
      "source": [
        "You can use just about any name you want for a variable, but your name *must* start with a letter, *must* not contain spaces, and your name *must* not be an existing Python word.  Characters in a variable name can include letters (uppercase and lowercase) and numbers and underscores `_`.  \n",
        "\n",
        "So `e` is a valid name for a variable, but `type` is a bad name.  It is very tempting for beginners to use very short abbreviation-style names for variables (like `dx` or `vbn`).  But resist that temptation and use more descriptive names for variables, like `difference_x` or `very_big_number`.  This will make your code readable by you and others!\n",
        "\n",
        "There are different style conventions for variable names.  We use lowercase names, with underscores separating words,  roughly following [Google's style conventions](https://google.github.io/styleguide/pyguide.html#Python_Style_Rules) for Python code."
      ]
    },
    {
      "cell_type": "code",
      "metadata": {
        "id": "yQN7N7ZPU5yQ"
      },
      "source": [
        "my_number = 17"
      ],
      "execution_count": null,
      "outputs": []
    },
    {
      "cell_type": "code",
      "metadata": {
        "id": "FitPq8UNU5yQ",
        "outputId": "66574c7a-ed1b-4591-886b-c163d6657d20",
        "colab": {
          "base_uri": "https://localhost:8080/"
        }
      },
      "source": [
        "my_number < 23"
      ],
      "execution_count": null,
      "outputs": [
        {
          "output_type": "execute_result",
          "data": {
            "text/plain": [
              "True"
            ]
          },
          "metadata": {},
          "execution_count": 70
        }
      ]
    },
    {
      "cell_type": "markdown",
      "metadata": {
        "id": "ne_mUsdnU5yQ"
      },
      "source": [
        "After you declare a variable, its value remains the same until it is changed.  You can change the value of a variable with a simple assignment.  After the above lines, the value of my_number is 17."
      ]
    },
    {
      "cell_type": "code",
      "metadata": {
        "id": "Eu-rHwt0U5yQ"
      },
      "source": [
        "my_number = 3.14"
      ],
      "execution_count": null,
      "outputs": []
    },
    {
      "cell_type": "markdown",
      "metadata": {
        "id": "cqgxOyyEU5yQ"
      },
      "source": [
        "This command reassigns the value of my_number to 3.14.  Note that it changes the type too!  It effectively overrides the previous value and replaces it with the new value.\n",
        "\n",
        "Often it is useful to change the value of a variable *incrementally* or *recursively*.  Python, like many programming languages, allows one to assign variables in a self-referential way.  What do you think the value of S will be after the following four lines?"
      ]
    },
    {
      "cell_type": "code",
      "metadata": {
        "id": "zW6_fRoxU5yR",
        "outputId": "c87cc015-4214-4077-99bc-4b89d7e69df4",
        "colab": {
          "base_uri": "https://localhost:8080/"
        }
      },
      "source": [
        "S = 0\n",
        "S = S + 1\n",
        "S = S + 2\n",
        "S = S + 3\n",
        "print(S)"
      ],
      "execution_count": null,
      "outputs": [
        {
          "output_type": "stream",
          "name": "stdout",
          "text": [
            "6\n"
          ]
        }
      ]
    },
    {
      "cell_type": "markdown",
      "metadata": {
        "id": "cX1eo3jZU5yR"
      },
      "source": [
        "The first line `S = 0` is the initial declaration:  the value 0 is stored in memory, and the name S is assigned to this value.\n",
        "\n",
        "The next line `S = S + 1` looks like nonsense, as an algebraic sentence.  But reading = as **assignment** rather than **equality**, you should read the line `S = S + 1` as assigning the *value* `S + 1` to the *name* `S`.  When Python interprets `S = S + 1`, it carries out the following steps.\n",
        "\n",
        "1.  Compute the value of the right side, `S+1`.  (The value is 1, since `S` was assigned the value 0 in the previous line.)\n",
        "2.  Assign the name `S` to this new value.   (Now `S` has the value 1.)\n",
        "\n",
        "Well, this is a slight lie.  Python probably does something more efficient, when given the command `S = S + 1`, since such operations are hard-wired in the computer and the Python interpreter is smart enough to take the most efficient route.  But at this level, it is most useful to think of a self-referential assignment of the form `X = expression(X)` as a two step process as above.\n",
        "\n",
        "1.  Compute the value of `expression(X)`.\n",
        "2.  Assign this value to the name `X`."
      ]
    },
    {
      "cell_type": "markdown",
      "metadata": {
        "id": "82NT9vo2U5yR"
      },
      "source": [
        "Now consider the following three commands."
      ]
    },
    {
      "cell_type": "code",
      "metadata": {
        "id": "CbT40NiuU5yR"
      },
      "source": [
        "my_number = 17\n",
        "new_number = my_number + 1\n",
        "my_number = 3.14"
      ],
      "execution_count": null,
      "outputs": []
    },
    {
      "cell_type": "markdown",
      "metadata": {
        "id": "yQz42J2dU5yR"
      },
      "source": [
        "What are the values of the variables my_number and new_number, after the execution of these three lines?\n",
        "\n",
        "To access these values, you can use the *print* function."
      ]
    },
    {
      "cell_type": "code",
      "metadata": {
        "id": "5J4rfa08U5yR",
        "outputId": "a9463cb7-1b2f-43e4-bf22-e54d0bdbbcba",
        "colab": {
          "base_uri": "https://localhost:8080/"
        }
      },
      "source": [
        "print(my_number)\n",
        "print(new_number)"
      ],
      "execution_count": null,
      "outputs": [
        {
          "output_type": "stream",
          "name": "stdout",
          "text": [
            "3.14\n",
            "18\n"
          ]
        }
      ]
    },
    {
      "cell_type": "markdown",
      "metadata": {
        "id": "DbEoFnjnU5yR"
      },
      "source": [
        "Python is an *interpreted* language, which carries out commands line-by-line from top to bottom.  So consider the three lines\n",
        "\n",
        "``` python\n",
        "my_number = 17\n",
        "new_number = my_number + 1\n",
        "my_number = 3.14\n",
        "```\n",
        "\n",
        "Line 1 sets the value of my_number to 17.  Line 2 sets the value of new_number to 18.  Line 3 sets the value of my_number to 3.14.  But Line 3 does *not* change the value of new_number at all.\n",
        "\n",
        "(This will become confusing and complicated later, as we study mutable and immutable types.)"
      ]
    },
    {
      "cell_type": "markdown",
      "metadata": {
        "id": "PFA4Q7SiU5yR"
      },
      "source": [
        "### Exercises\n",
        "\n",
        "1.  What is the difference between `=` and `==` in the Python language?\n",
        "\n",
        "2.  If the variable `x` has value `3`, and you then evaluate the Python command `x = x * x`, what will be the value of `x` after evaluation?\n",
        "\n",
        "3.  Imagine you have two variables `a` and `b`, and you want to switch their values.  How could you do this in Python?\n",
        "\n",
        "4.  Kepler's third law states that for a planet in circular orbit around an object of mass $M$, one has $4 \\pi^2 r^3 = G M t^2$.  We can use this to estimate the mass of the sun, from other astronomically observable quantities.  Look up $G$ (the gravitational constant, estimated by experiment on Earth) and $r$ (the distance from the Earth to the sun, in meters).  Compute $t$, the number of seconds it takes for the Earth to go around the sun (365.25 days).  Finally use all of this to estimate $M$, the mass of the sun.  Your solution should use 5-10 lines of Python code."
      ]
    },
    {
      "cell_type": "markdown",
      "metadata": {
        "id": "sIeJz7hUU5yR"
      },
      "source": [
        "### Solutions\n",
        "\n",
        "(Use this space to work on the exercises.  Place more code and text cells above as needed.)\n",
        "\n",
        "1. = is used when defining or declaring a variable. == is used for comparing a variable to something.\n",
        "\n",
        "2. x = 9\n",
        "\n",
        "3. temp = a\n",
        "a = b\n",
        "b = temp\n",
        "\n",
        "\n",
        "4. see code cell below\n"
      ]
    },
    {
      "cell_type": "code",
      "source": [
        "G = 6.6743 * (10**(-11))\n",
        "r = 149.6 * (10**(9))\n",
        "t = 365.25*24*60*60\n",
        "pi = 3.14159\n",
        "\n",
        "print(f'M = {(4*(pi**2)*(r**3))/(G * (t**2))}')\n"
      ],
      "metadata": {
        "id": "joe_1yFHjN22",
        "outputId": "67c56249-9867-4d9d-b531-5321d31cc19b",
        "colab": {
          "base_uri": "https://localhost:8080/"
        }
      },
      "execution_count": null,
      "outputs": [
        {
          "output_type": "stream",
          "name": "stdout",
          "text": [
            "M = 1.9885665317074782e+30\n"
          ]
        }
      ]
    },
    {
      "cell_type": "markdown",
      "metadata": {
        "id": "b81C2aIPU5yS"
      },
      "source": [
        "# Lists and ranges"
      ]
    },
    {
      "cell_type": "markdown",
      "metadata": {
        "id": "iZoKvbn0U5yS"
      },
      "source": [
        "Python stands out for the central role played by *lists*.  A *list* is what it sounds like -- a list of data.  Data within a list can be of any type.  Multiple types are possible within the same list!  The basic syntax for a list is to use brackets to enclose the list items and commas to separate the list items."
      ]
    },
    {
      "cell_type": "code",
      "metadata": {
        "id": "MQRMJWrgU5yS",
        "outputId": "6264d45b-e5ec-4a89-c42d-fd64e25ae1da",
        "colab": {
          "base_uri": "https://localhost:8080/"
        }
      },
      "source": [
        "type([1,2,3])"
      ],
      "execution_count": null,
      "outputs": [
        {
          "output_type": "execute_result",
          "data": {
            "text/plain": [
              "list"
            ]
          },
          "metadata": {},
          "execution_count": 78
        }
      ]
    },
    {
      "cell_type": "code",
      "metadata": {
        "id": "BkTCBWhsU5yS",
        "outputId": "a004946f-b83e-4e17-cda8-cdbc47335618",
        "colab": {
          "base_uri": "https://localhost:8080/"
        }
      },
      "source": [
        "type(['Hello',17])"
      ],
      "execution_count": null,
      "outputs": [
        {
          "output_type": "execute_result",
          "data": {
            "text/plain": [
              "list"
            ]
          },
          "metadata": {},
          "execution_count": 79
        }
      ]
    },
    {
      "cell_type": "markdown",
      "metadata": {
        "id": "DH51tlMvU5yS"
      },
      "source": [
        "There is another type called a *tuple* that we will use less often.  Tuples use parentheses for enclosure instead of brackets."
      ]
    },
    {
      "cell_type": "code",
      "metadata": {
        "id": "8m1KBuRNU5yS",
        "outputId": "b6883fff-7383-47d8-e16f-049163493ebe",
        "colab": {
          "base_uri": "https://localhost:8080/"
        }
      },
      "source": [
        "type((1,2,3))"
      ],
      "execution_count": null,
      "outputs": [
        {
          "output_type": "execute_result",
          "data": {
            "text/plain": [
              "tuple"
            ]
          },
          "metadata": {},
          "execution_count": 80
        }
      ]
    },
    {
      "cell_type": "markdown",
      "metadata": {
        "id": "sFZr5TtpU5yS"
      },
      "source": [
        "There's another list-like type in Python 3, called the `range` type.  Ranges are kind of like lists, but instead of plunking every item into a slot of memory, ranges just have to remember three integers:  their *start*, their *stop*, and their *step*.    \n",
        "\n",
        "The `range` command creates a range with a given start, stop, and step.  If you only input one number, the range will ***start at zero*** and use ***steps of one*** and will stop ***just before*** the given stop-number.\n",
        "\n",
        "One can create a list from a range (plunking every term in the range into a slot of memory), by using the `list` command.  Here are a few examples."
      ]
    },
    {
      "cell_type": "code",
      "metadata": {
        "id": "0N_HejMiU5yS",
        "outputId": "e40d7658-3626-4e44-e6d8-a236eab2ba8d",
        "colab": {
          "base_uri": "https://localhost:8080/"
        }
      },
      "source": [
        "type(range(10)) # Ranges are their own type, in Python 3.x.  Not in Python 2.x!"
      ],
      "execution_count": null,
      "outputs": [
        {
          "output_type": "execute_result",
          "data": {
            "text/plain": [
              "range"
            ]
          },
          "metadata": {},
          "execution_count": 81
        }
      ]
    },
    {
      "cell_type": "code",
      "metadata": {
        "id": "XzlQhL4eU5yS",
        "outputId": "b775cd01-6d27-4ac7-d3cd-53d1abefcabe",
        "colab": {
          "base_uri": "https://localhost:8080/"
        }
      },
      "source": [
        "list(range(10)) # Let's see what's in the range.  Note it starts at zero!  Where does it stop?"
      ],
      "execution_count": null,
      "outputs": [
        {
          "output_type": "execute_result",
          "data": {
            "text/plain": [
              "[0, 1, 2, 3, 4, 5, 6, 7, 8, 9]"
            ]
          },
          "metadata": {},
          "execution_count": 82
        }
      ]
    },
    {
      "cell_type": "markdown",
      "metadata": {
        "id": "7-TeavRKU5yS"
      },
      "source": [
        "A more complicated two-input form of the range command produces a range of integers **starting at** a given number, and **terminating before** another given number."
      ]
    },
    {
      "cell_type": "code",
      "metadata": {
        "id": "fpHHkb82U5yT",
        "outputId": "a477d6b2-94ae-4710-d8be-0783e8ac02ef",
        "colab": {
          "base_uri": "https://localhost:8080/"
        }
      },
      "source": [
        "list(range(3,10))"
      ],
      "execution_count": null,
      "outputs": [
        {
          "output_type": "execute_result",
          "data": {
            "text/plain": [
              "[3, 4, 5, 6, 7, 8, 9]"
            ]
          },
          "metadata": {},
          "execution_count": 83
        }
      ]
    },
    {
      "cell_type": "code",
      "metadata": {
        "id": "O5A8XZFxU5yT",
        "outputId": "f24a6885-7e65-44c5-acbd-0356c48dc018",
        "colab": {
          "base_uri": "https://localhost:8080/"
        }
      },
      "source": [
        "list(range(-4,5))"
      ],
      "execution_count": null,
      "outputs": [
        {
          "output_type": "execute_result",
          "data": {
            "text/plain": [
              "[-4, -3, -2, -1, 0, 1, 2, 3, 4]"
            ]
          },
          "metadata": {},
          "execution_count": 84
        }
      ]
    },
    {
      "cell_type": "markdown",
      "metadata": {
        "id": "dRzyphm5U5yT"
      },
      "source": [
        "This is a common source of difficulty for Python beginners.  While the first parameter (-4) is the starting point of the list, the list ends just before the second parameter (5).  This takes some getting used to, but experienced Python programmers grow to like this convention."
      ]
    },
    {
      "cell_type": "markdown",
      "metadata": {
        "id": "XderpNFAU5yT"
      },
      "source": [
        "The *length* of a list can be accessed by the len command."
      ]
    },
    {
      "cell_type": "code",
      "metadata": {
        "id": "-xjzFOxWU5yT",
        "outputId": "a63d7637-f650-4418-9451-389648c11ad8",
        "colab": {
          "base_uri": "https://localhost:8080/"
        }
      },
      "source": [
        "len([2,4,6])"
      ],
      "execution_count": null,
      "outputs": [
        {
          "output_type": "execute_result",
          "data": {
            "text/plain": [
              "3"
            ]
          },
          "metadata": {},
          "execution_count": 85
        }
      ]
    },
    {
      "cell_type": "code",
      "metadata": {
        "id": "1IG2dOJeU5yT",
        "outputId": "b3723287-7bf1-494c-cb90-c531af647d77",
        "colab": {
          "base_uri": "https://localhost:8080/"
        }
      },
      "source": [
        "len(range(10))  # The len command can deal with lists and ranges.  No need to convert."
      ],
      "execution_count": null,
      "outputs": [
        {
          "output_type": "execute_result",
          "data": {
            "text/plain": [
              "10"
            ]
          },
          "metadata": {},
          "execution_count": 86
        }
      ]
    },
    {
      "cell_type": "code",
      "metadata": {
        "id": "N9lCN8-bU5yT",
        "outputId": "1fc0d5aa-78c5-410c-ee94-93c9d67a080a",
        "colab": {
          "base_uri": "https://localhost:8080/"
        }
      },
      "source": [
        "len(range(10,100)) # Can you figure out the length, before evaluating?"
      ],
      "execution_count": null,
      "outputs": [
        {
          "output_type": "execute_result",
          "data": {
            "text/plain": [
              "90"
            ]
          },
          "metadata": {},
          "execution_count": 87
        }
      ]
    },
    {
      "cell_type": "markdown",
      "metadata": {
        "id": "zW4aiYaAU5yT"
      },
      "source": [
        "The final variant of the range command (for now) is the *three-parameter* command of the form `range(a,b,s)`.  This produces a list like `range(a,b)`, but with a \"step size\" of `s`.  In other words, it produces a list of integers, beginning at `a`, increasing by `s` from one entry to the next, and going up to (but not including) `b`.  It is best to experiment a bit to get the feel for it!"
      ]
    },
    {
      "cell_type": "code",
      "metadata": {
        "id": "RjmZQRmtU5yT",
        "outputId": "9985a381-a569-4360-a462-6468b39332c3",
        "colab": {
          "base_uri": "https://localhost:8080/"
        }
      },
      "source": [
        "list(range(1,10,2))"
      ],
      "execution_count": null,
      "outputs": [
        {
          "output_type": "execute_result",
          "data": {
            "text/plain": [
              "[1, 3, 5, 7, 9]"
            ]
          },
          "metadata": {},
          "execution_count": 91
        }
      ]
    },
    {
      "cell_type": "code",
      "metadata": {
        "id": "UX91kNpoU5yT",
        "outputId": "c61e3a60-35fa-424a-b9dc-86ef5b3e8c4b",
        "colab": {
          "base_uri": "https://localhost:8080/"
        }
      },
      "source": [
        "list(range(11,30,2))"
      ],
      "execution_count": null,
      "outputs": [
        {
          "output_type": "execute_result",
          "data": {
            "text/plain": [
              "[11, 13, 15, 17, 19, 21, 23, 25, 27, 29]"
            ]
          },
          "metadata": {},
          "execution_count": 90
        }
      ]
    },
    {
      "cell_type": "code",
      "metadata": {
        "id": "cU6TYerPU5yU",
        "outputId": "02ec7817-353f-4e75-face-00223de397c5",
        "colab": {
          "base_uri": "https://localhost:8080/"
        }
      },
      "source": [
        "list(range(-4,5,3))"
      ],
      "execution_count": null,
      "outputs": [
        {
          "output_type": "execute_result",
          "data": {
            "text/plain": [
              "[-4, -1, 2]"
            ]
          },
          "metadata": {},
          "execution_count": 89
        }
      ]
    },
    {
      "cell_type": "code",
      "metadata": {
        "id": "_RueWhdHU5yU",
        "outputId": "4a630180-6e6a-4829-a3d1-00f960ca6d20",
        "colab": {
          "base_uri": "https://localhost:8080/"
        }
      },
      "source": [
        "list(range(10,100,17))"
      ],
      "execution_count": null,
      "outputs": [
        {
          "output_type": "execute_result",
          "data": {
            "text/plain": [
              "[10, 27, 44, 61, 78, 95]"
            ]
          },
          "metadata": {},
          "execution_count": 88
        }
      ]
    },
    {
      "cell_type": "markdown",
      "metadata": {
        "id": "I3otAH2AU5yU"
      },
      "source": [
        "This can be used for descending ranges too, and observe that the final number b in range(a,b,s) is not included."
      ]
    },
    {
      "cell_type": "code",
      "metadata": {
        "id": "LVm1djsTU5yU",
        "outputId": "1e77d2d5-70a9-4369-f5b0-1822b102b371",
        "colab": {
          "base_uri": "https://localhost:8080/"
        }
      },
      "source": [
        "list(range(10,0,-1))"
      ],
      "execution_count": null,
      "outputs": [
        {
          "output_type": "execute_result",
          "data": {
            "text/plain": [
              "[10, 9, 8, 7, 6, 5, 4, 3, 2, 1]"
            ]
          },
          "metadata": {},
          "execution_count": 92
        }
      ]
    },
    {
      "cell_type": "markdown",
      "metadata": {
        "id": "Jp1V-X59U5yU"
      },
      "source": [
        "How many multiples of 7 are between 10 and 100?  We can find out pretty quickly with the range command and the len command (to count)."
      ]
    },
    {
      "cell_type": "code",
      "metadata": {
        "id": "roA4gLoXU5yU",
        "outputId": "2bb53d75-b6a4-4bfd-9191-739cceb54a57",
        "colab": {
          "base_uri": "https://localhost:8080/"
        }
      },
      "source": [
        "list(range(10,100,7))  # What list will this create?  It won't answer the question..."
      ],
      "execution_count": null,
      "outputs": [
        {
          "output_type": "execute_result",
          "data": {
            "text/plain": [
              "[10, 17, 24, 31, 38, 45, 52, 59, 66, 73, 80, 87, 94]"
            ]
          },
          "metadata": {},
          "execution_count": 95
        }
      ]
    },
    {
      "cell_type": "code",
      "metadata": {
        "id": "jybN-evPU5yU",
        "outputId": "f9e263dc-ea56-463f-f74e-70487bcffc4c",
        "colab": {
          "base_uri": "https://localhost:8080/"
        }
      },
      "source": [
        "list(range(14,100,7))  # Starting at 14 gives the multiples of 7."
      ],
      "execution_count": null,
      "outputs": [
        {
          "output_type": "execute_result",
          "data": {
            "text/plain": [
              "[14, 21, 28, 35, 42, 49, 56, 63, 70, 77, 84, 91, 98]"
            ]
          },
          "metadata": {},
          "execution_count": 94
        }
      ]
    },
    {
      "cell_type": "code",
      "metadata": {
        "id": "BdvLmGljU5yU",
        "outputId": "afae72f6-58ce-4c6c-8a6b-a44442a93218",
        "colab": {
          "base_uri": "https://localhost:8080/"
        }
      },
      "source": [
        "len(range(14,100,7))  # Gives the length of the list, and answers the question!"
      ],
      "execution_count": null,
      "outputs": [
        {
          "output_type": "execute_result",
          "data": {
            "text/plain": [
              "13"
            ]
          },
          "metadata": {},
          "execution_count": 93
        }
      ]
    },
    {
      "cell_type": "markdown",
      "metadata": {
        "id": "dMbcJV5UU5yU"
      },
      "source": [
        "### Exercises\n",
        "\n",
        "1.  If `a` and `b` are integers, what is the length of `range(a,b)`?  Express your answer as a formula involving `a` and `b`.\n",
        "\n",
        "2.  Use a list and range command to produce the list `[1,2,3,4,5,6,7,8,9,10]`.\n",
        "\n",
        "3.  Create the list `[1,2,3,4,5,1,2,3,4,5,1,2,3,4,5,1,2,3,4,5,1,2,3,4,5]` with a single list and range command and another operation.\n",
        "\n",
        "4.  How many multiples of 3 are there between 300 and 3000 (including 300 and 3000)?"
      ]
    },
    {
      "cell_type": "markdown",
      "source": [
        "1. The length of range(a,b) is b - a\n",
        "2. in code cell below\n",
        "3. in code cell below\n",
        "4. There are 901 multiples of 3 in the given range. code below"
      ],
      "metadata": {
        "id": "KAaeNNCfkfce"
      }
    },
    {
      "cell_type": "code",
      "metadata": {
        "id": "4HKDVcFVU5yU",
        "outputId": "734418c1-9de3-47e5-d316-42d0eda62b35",
        "colab": {
          "base_uri": "https://localhost:8080/"
        }
      },
      "source": [
        "#  Use this space to work on the exercises.\n",
        "\n",
        "# 1. see text cell above\n",
        "\n",
        "# 2\n",
        "mylist = []\n",
        "for i in range(1, 11):\n",
        "  mylist.append(i)\n",
        "\n",
        "\n",
        "print(mylist)\n",
        "\n",
        "# 3\n",
        "mylist = []\n",
        "for i in range(5):\n",
        "  for j in range(1, 6):\n",
        "    mylist.append(j)\n",
        "\n",
        "print(mylist)\n",
        "\n",
        "# 4\n",
        "count = 0\n",
        "for i in range(300, 3001):\n",
        "  if i % 3 == 0:\n",
        "    count += 1\n",
        "\n",
        "print(count)\n"
      ],
      "execution_count": null,
      "outputs": [
        {
          "output_type": "stream",
          "name": "stdout",
          "text": [
            "[1, 2, 3, 4, 5, 6, 7, 8, 9, 10]\n",
            "[1, 2, 3, 4, 5, 1, 2, 3, 4, 5, 1, 2, 3, 4, 5, 1, 2, 3, 4, 5, 1, 2, 3, 4, 5]\n",
            "901\n"
          ]
        }
      ]
    },
    {
      "cell_type": "markdown",
      "metadata": {
        "id": "ccSW2BGyU5yV"
      },
      "source": [
        "# Iterating over a range"
      ]
    },
    {
      "cell_type": "markdown",
      "metadata": {
        "id": "qoOhvB1rU5yV"
      },
      "source": [
        "Computers are excellent at repetitive reliable tasks.  If we wish to perform a similar computation, many times over, a computer a great tool.  Here we look at a common and simple way to carry out a repetetive computation:  the \"for loop\".  The \"for loop\" *iterates* through items in a list or range, carrying out some action for each item.  Two examples will illustrate."
      ]
    },
    {
      "cell_type": "code",
      "metadata": {
        "id": "mwdKBi3kU5yV",
        "outputId": "6a1cc1a2-b4c4-4c91-bdcf-0ec428f3c51d",
        "colab": {
          "base_uri": "https://localhost:8080/"
        }
      },
      "source": [
        "for n in [1,2,3,4,5]:\n",
        "    print(n*n)"
      ],
      "execution_count": null,
      "outputs": [
        {
          "output_type": "stream",
          "name": "stdout",
          "text": [
            "1\n",
            "4\n",
            "9\n",
            "16\n",
            "25\n"
          ]
        }
      ]
    },
    {
      "cell_type": "code",
      "metadata": {
        "id": "HC031A4LU5yV",
        "outputId": "add5dec6-c534-4a4f-8041-50212f58075d",
        "colab": {
          "base_uri": "https://localhost:8080/"
        }
      },
      "source": [
        "for s in ['I','Am','Python']:\n",
        "    print(s + \"!\")"
      ],
      "execution_count": null,
      "outputs": [
        {
          "output_type": "stream",
          "name": "stdout",
          "text": [
            "I!\n",
            "Am!\n",
            "Python!\n"
          ]
        }
      ]
    },
    {
      "cell_type": "markdown",
      "metadata": {
        "id": "yuctH9OZU5yV"
      },
      "source": [
        "The first loop, **unraveled**, carries out the following sequence of commands."
      ]
    },
    {
      "cell_type": "code",
      "metadata": {
        "id": "UY4izCfvU5yV",
        "outputId": "67889beb-9a03-4d3e-f737-f51dc580ff3e",
        "colab": {
          "base_uri": "https://localhost:8080/"
        }
      },
      "source": [
        "n = 1\n",
        "print(n*n)\n",
        "n = 2\n",
        "print(n*n)\n",
        "n = 3\n",
        "print(n*n)\n",
        "n = 4\n",
        "print(n*n)\n",
        "n = 5\n",
        "print(n*n)"
      ],
      "execution_count": null,
      "outputs": [
        {
          "output_type": "stream",
          "name": "stdout",
          "text": [
            "1\n",
            "4\n",
            "9\n",
            "16\n",
            "25\n"
          ]
        }
      ]
    },
    {
      "cell_type": "markdown",
      "metadata": {
        "id": "IgnUBVI0U5yV"
      },
      "source": [
        "But the \"for loop\" is more efficient *and* more readable to programmers.  Indeed, it saves the repetition of writing the same command `print(n*n)` over and over again.  It also makes transparent, from the beginning, the range of values that `n` is assigned to.  \n",
        "\n",
        "When you read and write \"for loops\", you should consider how they look unravelled -- that is how Python will carry out the loop.  And when you find yourself faced with a repetetive task, you might consider whether it may be wrapped up in a for loop.  Most of the time, you should try to write code that *never repeats* the same task.  If there is repetition, wrap it in a loop."
      ]
    },
    {
      "cell_type": "markdown",
      "metadata": {
        "id": "M16fubaDU5yV"
      },
      "source": [
        "Try to unravel the loop below, and predict the result, before evaluating the code."
      ]
    },
    {
      "cell_type": "code",
      "metadata": {
        "id": "vOyvFfJcU5yW",
        "outputId": "b566e333-fbd8-4d52-8977-5a0de2ef38b2",
        "colab": {
          "base_uri": "https://localhost:8080/"
        }
      },
      "source": [
        "P = 1\n",
        "for n in range(1,6):\n",
        "    P = P * n\n",
        "print(P)"
      ],
      "execution_count": null,
      "outputs": [
        {
          "output_type": "stream",
          "name": "stdout",
          "text": [
            "120\n"
          ]
        }
      ]
    },
    {
      "cell_type": "markdown",
      "metadata": {
        "id": "I79mIz44U5yW"
      },
      "source": [
        "This might have been difficult!  So what if you want to trace through the loop, as it goes?  Sometimes, especially when debugging, it's useful to inspect every step of the loop to see what Python is doing.  We can inspect the loop above, by inserting a print command within the *scope* of the loop."
      ]
    },
    {
      "cell_type": "code",
      "metadata": {
        "id": "C6bVCkZdU5yW",
        "outputId": "26ce4d95-4cf5-488a-8744-8d28de3dd469",
        "colab": {
          "base_uri": "https://localhost:8080/"
        }
      },
      "source": [
        "P = 1\n",
        "for n in range(1,6):\n",
        "    P = P * n\n",
        "    print(\"n is\",n,\"and P is\",P)\n",
        "print(P)"
      ],
      "execution_count": null,
      "outputs": [
        {
          "output_type": "stream",
          "name": "stdout",
          "text": [
            "n is 1 and P is 1\n",
            "n is 2 and P is 2\n",
            "n is 3 and P is 6\n",
            "n is 4 and P is 24\n",
            "n is 5 and P is 120\n",
            "120\n"
          ]
        }
      ]
    },
    {
      "cell_type": "markdown",
      "metadata": {
        "id": "y8kjJUJAU5yW"
      },
      "source": [
        "Here we have used the *print* command with strings and numbers together.  In Python 3.x, you can print multiple things on the same line by separating them by commas.  The \"things\" can be strings (enclosed by single or double-quotes) and numbers (int, float, etc.)."
      ]
    },
    {
      "cell_type": "code",
      "metadata": {
        "id": "wUu0BH2lU5yW",
        "outputId": "471d352f-3999-4949-f2c0-75190afb818a",
        "colab": {
          "base_uri": "https://localhost:8080/"
        }
      },
      "source": [
        "print(\"My favorite number is\",17)"
      ],
      "execution_count": null,
      "outputs": [
        {
          "output_type": "stream",
          "name": "stdout",
          "text": [
            "My favorite number is 17\n"
          ]
        }
      ]
    },
    {
      "cell_type": "markdown",
      "metadata": {
        "id": "TPCXSm1LU5yW"
      },
      "source": [
        "If we unravel the loop above, the linear sequence of commands interpreted by Python is the following."
      ]
    },
    {
      "cell_type": "code",
      "metadata": {
        "id": "KzUl3ac7U5yW",
        "outputId": "ab466bdf-4590-4507-dc41-0a435b629bc2",
        "colab": {
          "base_uri": "https://localhost:8080/"
        }
      },
      "source": [
        "P = 1\n",
        "n = 1\n",
        "P = P * n\n",
        "print(\"n is\",n,\"and P is\",P)\n",
        "n = 2\n",
        "P = P * n\n",
        "print(\"n is\",n,\"and P is\",P)\n",
        "n = 3\n",
        "P = P * n\n",
        "print(\"n is\",n,\"and P is\",P)\n",
        "n = 4\n",
        "P = P * n\n",
        "print(\"n is\",n,\"and P is\",P)\n",
        "n = 5\n",
        "P = P * n\n",
        "print(\"n is\",n,\"and P is\",P)\n",
        "print (P)"
      ],
      "execution_count": null,
      "outputs": [
        {
          "output_type": "stream",
          "name": "stdout",
          "text": [
            "n is 1 and P is 1\n",
            "n is 2 and P is 2\n",
            "n is 3 and P is 6\n",
            "n is 4 and P is 24\n",
            "n is 5 and P is 120\n",
            "120\n"
          ]
        }
      ]
    },
    {
      "cell_type": "markdown",
      "metadata": {
        "id": "44_u1MSrU5yW"
      },
      "source": [
        "Let's analyze the loop syntax in more detail.  \n",
        "```python\n",
        "P = 1\n",
        "for n in range(1,6):\n",
        "    P = P * n  # this command is in the scope of the loop.\n",
        "    print(\"n is\",n,\"and P is\",P)  # this command is in the scope of the loop too!\n",
        "print(P)\n",
        "```\n",
        "The \"for\" command ends with a colon `:`, and the **next two** lines are indented.  The colon and indentation are indicators of **scope**.  The *scope* of the for loop begins after the colon, and includes all indented lines.  The *scope* of the for loop is what is repeated in every step of the loop (in addition to the reassignment of `n`).  "
      ]
    },
    {
      "cell_type": "code",
      "metadata": {
        "id": "jE003_YTU5yW",
        "outputId": "fbd6bfdf-0131-4aec-b180-df8a43583f4e",
        "colab": {
          "base_uri": "https://localhost:8080/"
        }
      },
      "source": [
        "P = 1\n",
        "for n in range(1,6):\n",
        "    P = P * n  # this command is in the scope of the loop.\n",
        "    print(\"n is\",n,\"and P is\",P)  # this command is in the scope of the loop too!\n",
        "print(P)"
      ],
      "execution_count": null,
      "outputs": [
        {
          "output_type": "stream",
          "name": "stdout",
          "text": [
            "n is 1 and P is 1\n",
            "n is 2 and P is 2\n",
            "n is 3 and P is 6\n",
            "n is 4 and P is 24\n",
            "n is 5 and P is 120\n",
            "120\n"
          ]
        }
      ]
    },
    {
      "cell_type": "markdown",
      "metadata": {
        "id": "8wXaf4hxU5yW"
      },
      "source": [
        "If we change the indentation, it changes the scope of the for loop.  Predict what the following loop will do, by unraveling, before evaluating it."
      ]
    },
    {
      "cell_type": "code",
      "metadata": {
        "id": "F_FcpC5QU5yX",
        "outputId": "34ed685e-07fd-4be4-ed31-98fdb4416b5b",
        "colab": {
          "base_uri": "https://localhost:8080/"
        }
      },
      "source": [
        "P = 1\n",
        "for n in range(1,6):\n",
        "    P = P * n\n",
        "print(\"n is\",n,\"and P is\",P)\n",
        "print(P)"
      ],
      "execution_count": null,
      "outputs": [
        {
          "output_type": "stream",
          "name": "stdout",
          "text": [
            "n is 5 and P is 120\n",
            "120\n"
          ]
        }
      ]
    },
    {
      "cell_type": "markdown",
      "metadata": {
        "id": "__tEmpKPU5yX"
      },
      "source": [
        "Scopes can be nested by nesting indentation.  What do you think the following loop will do?  Can you unravel it?"
      ]
    },
    {
      "cell_type": "code",
      "metadata": {
        "id": "9fboPJdAU5yX",
        "outputId": "57b9748b-fb4d-4440-a247-d64df9d4010f",
        "colab": {
          "base_uri": "https://localhost:8080/"
        }
      },
      "source": [
        "for x in [1,2,3]:\n",
        "    for y in ['a', 'b']:\n",
        "        print(x,y)"
      ],
      "execution_count": null,
      "outputs": [
        {
          "output_type": "stream",
          "name": "stdout",
          "text": [
            "1 a\n",
            "1 b\n",
            "2 a\n",
            "2 b\n",
            "3 a\n",
            "3 b\n"
          ]
        }
      ]
    },
    {
      "cell_type": "markdown",
      "metadata": {
        "id": "HmXwPykdU5yX"
      },
      "source": [
        "How might you create a nested loop which prints `1 a` then `2 a` then `3 a` then `1 b` then `2 b` then `3 b`?  Try it below."
      ]
    },
    {
      "cell_type": "code",
      "metadata": {
        "id": "b97leVdkU5yX",
        "outputId": "96917317-98b3-4bdd-f1fa-1d2f004f567a",
        "colab": {
          "base_uri": "https://localhost:8080/"
        }
      },
      "source": [
        "# Insert your loop here.\n",
        "for letter in ['a', 'b']:\n",
        "  for j in range(1, 4):\n",
        "    print(f'{j} {letter}')"
      ],
      "execution_count": null,
      "outputs": [
        {
          "output_type": "stream",
          "name": "stdout",
          "text": [
            "1 a\n",
            "2 a\n",
            "3 a\n",
            "1 b\n",
            "2 b\n",
            "3 b\n"
          ]
        }
      ]
    },
    {
      "cell_type": "markdown",
      "metadata": {
        "id": "ofCBY24EU5yX"
      },
      "source": [
        "Among popular programming languages, Python is particular about indentation.  Other languages indicate scope with open/close braces, for example, and indentation is just a matter of style.  By requiring indentation to indicate scope, Python effectively removes the need for open/close braces, and enforces a readable style.\n",
        "\n",
        "We have now encountered data types, operations, variables, and loops.  Taken together, these are powerful tools for computation!  Now complete the following exercises for more practice."
      ]
    },
    {
      "cell_type": "markdown",
      "metadata": {
        "id": "JBr_HgrSU5yX"
      },
      "source": [
        "## Exercises"
      ]
    },
    {
      "cell_type": "markdown",
      "metadata": {
        "id": "FEQTm_WZU5yX"
      },
      "source": [
        "1.  Describe how Python interprets division with remainder when the divisor and/or dividend is negative.\n",
        "2.  What is the remainder when $2^{90}$ is divided by $91$?\n",
        "3.  How many multiples of 13 are there between 1 and 1000?\n",
        "4.  How many *odd* multiples of 13 are there between 1 and 1000?\n",
        "5.  What is the sum of the numbers from 1 to 1000?\n",
        "6.  What is the sum of the squares, from $1 \\cdot 1$ to $1000 \\cdot 1000$?\n",
        "7.  Euler proved that\n",
        "$$\\frac{1}{1^4} + \\frac{1}{2^4} + \\frac{1}{3^4} + \\cdots = \\frac{\\pi^4}{C},$$\n",
        "for some positive integer $C$.  Use Python to guess what $C$ is."
      ]
    },
    {
      "cell_type": "code",
      "metadata": {
        "id": "F870MLhKU5yX",
        "outputId": "5772fbd2-86e5-474c-8637-67a65c6589c5",
        "colab": {
          "base_uri": "https://localhost:8080/"
        }
      },
      "source": [
        "# Insert your solutions here.\n",
        "# 1. Python interprets division normally outputting a float if there is a remainder, unless specified with either the % or // operators.\n",
        "\n",
        "# 2\n",
        "print(f'2: {2**90 % 91}') # The remainder is 64\n",
        "\n",
        "# 3. There are 76 multiples of 13 in this range\n",
        "count = 0\n",
        "for i in range(1, 1001):\n",
        "  if i % 13 == 0:\n",
        "    count += 1\n",
        "\n",
        "print(f'3: {count}')\n",
        "\n",
        "# 4. There are 38 odd multiples of 13 in this range\n",
        "count = 0\n",
        "for i in range(1, 1001):\n",
        "  if i % 13 == 0 and i % 2 != 0:\n",
        "    count += 1\n",
        "\n",
        "print(f'4: {count}')\n",
        "\n",
        "# 5. The sum of the numbers in range 1 - 1000, inclusive, is 500500\n",
        "mynum = 0\n",
        "for i in range(1, 1001):\n",
        "  mynum += i\n",
        "\n",
        "print(f'5: {mynum}')\n",
        "\n",
        "# 6. The sum of the squares in range 1 - 1000, inclusive, is 333833500\n",
        "mynum = 0\n",
        "for i in range(1, 1001):\n",
        "  mynum += i ** 2\n",
        "\n",
        "print(f'6: {mynum}')\n",
        "\n",
        "# 7. C is estimated to be approximately 90\n",
        "pi = 3.14159\n",
        "mynum = 0\n",
        "for i in range(1, 100001):\n",
        "  mynum += (1/(i**4))\n",
        "\n",
        "ans = 1 / (mynum / (pi ** 4))\n",
        "print(ans)\n",
        "\n"
      ],
      "execution_count": null,
      "outputs": [
        {
          "output_type": "stream",
          "name": "stdout",
          "text": [
            "2: 64\n",
            "3: 76\n",
            "4: 38\n",
            "5: 500500\n",
            "6: 333833500\n",
            "89.99969592141689\n"
          ]
        }
      ]
    },
    {
      "cell_type": "markdown",
      "metadata": {
        "id": "nS9xYcpCU5yY"
      },
      "source": [
        "# Explorations\n",
        "\n",
        "Now that you have learned the basics of computation in Python and loops, we can start exploring some interesting mathematics!  We are going to look at approximation here -- some ancient questions made easier with programming.\n",
        "\n",
        "These explorations will be graded, but it's ok (no grade penalty!) if you don't finish all the explorations by the due date.  Finish what you can, and focus on doing the work well, not getting all the way to the end.  Experienced programmers might get quickly to the end, but new programmers might focus on approximating square roots for more time."
      ]
    },
    {
      "cell_type": "markdown",
      "metadata": {
        "id": "IfPCPAu5U5yY"
      },
      "source": [
        "## Exploration 1:  Approximating square roots.\n",
        "\n",
        "We have seen how Python can do basic arithmetic -- addition, subtraction, multiplication, and division.  But what about other functions, like the square root?  In fact, Python offers a few functions for the square root, but that's not the point.  How can we compute the square root using only basic arithmetic?  \n",
        "\n",
        "Why might we care?\n",
        "\n",
        "1.  We might want to know the square root of a number with more precision than the Python function offers.\n",
        "2.  We might want to understand how the square root is computed... under the hood.\n",
        "3.  Understanding approximations of square roots and other functions is important, because we might want to approximate other functions in the future (that aren't pre-programmed for us).\n",
        "\n",
        "Here is a method for approximating the square root of a number $X$.\n",
        "\n",
        "1.  Begin with a guess $g$.\n",
        "2.  Observe that $g \\cdot (X / g) = X$.  Therefore, among the two numbers $g$ and $(X/g)$, one will be less than or equal to the square root of X, and the other will be greater than or equal to the square root.\n",
        "3.  Take the average of $g$ and $(X/g)$.  This will be closer to the square root than $g$ or $X/g$ (unless your guess is exactly right!) \n",
        "4.  Use this average as a new guess... and go back to the beginning.\n",
        "\n",
        "Now implement this in Python to approximate the square root of 2.  Use a loop, so that you can go through the approximation process 10 times or 100 times or however many you wish.  Explore the effect of different starting guesses.  Would a change in the averaging function improve the approximation?  How quickly does this converge?  How does this change if you try square roots of different positive numbers?\n",
        "\n",
        "Write your code (Python) and findings (in Markdown cells) in a readable form.  Answer the questions in complete sentences.\n",
        "\n"
      ]
    },
    {
      "cell_type": "code",
      "metadata": {
        "id": "PoGqUlqoU5yY",
        "outputId": "800c7d34-5577-4cd9-81f4-07c2ca5c52a2",
        "colab": {
          "base_uri": "https://localhost:8080/"
        }
      },
      "source": [
        "#  Start your explorations here!\n",
        "\n",
        "# x = starting number\n",
        "# g = guess for sqrt\n",
        "# num_of_iterations = number of times to approximate the guess\n",
        "\n",
        "def sqrt_approximation(x, g, num_of_iterations):\n",
        "  for i in range(num_of_iterations):\n",
        "    g = (g + (x/g)) / 2\n",
        "  return g\n",
        "\n",
        "sqrt_approximation(2, 4, 10)"
      ],
      "execution_count": 9,
      "outputs": [
        {
          "output_type": "execute_result",
          "data": {
            "text/plain": [
              "1.414213562373095"
            ]
          },
          "metadata": {},
          "execution_count": 9
        }
      ]
    },
    {
      "cell_type": "markdown",
      "source": [
        "It seems as if the number of iterations in the sqrt_approximation function determines how accurate it is. In the case of g = 1 and x = 2, it only takes 3 iterations before it becomes accurate to the 3rd decimal place. The more iterations we let it run, the more accurate the approximation result is.\n",
        "\n",
        "For most optimal results, it's best to choose a guess that is close to the actual value. For large numbers this may be harder to know which numbers are closer to the actual value, but its very easy to narrow down the range in which to guess, for example the sqrt will always be non-zero, <= the number we are trying to approximate the sqrt of, and will always be positive."
      ],
      "metadata": {
        "id": "-HK_szcPKyGh"
      }
    },
    {
      "cell_type": "code",
      "source": [],
      "metadata": {
        "id": "1hl1ID36M83V"
      },
      "execution_count": null,
      "outputs": []
    },
    {
      "cell_type": "markdown",
      "metadata": {
        "id": "gHxmSYaoc8v0"
      },
      "source": [
        "Describe your findings here in 1-2 paragraphs."
      ]
    },
    {
      "cell_type": "markdown",
      "metadata": {
        "id": "fOUbCcfxU5yY"
      },
      "source": [
        "## Exploration 2:  Approximating e and pi.\n",
        "\n",
        "Now we approximate two of the most important constants in mathematics:  e and pi.  There are multiple approaches, but e is pretty easy with the series expansion of e^x.  First, approximate e by evaluating the Taylor series expansion of e^x at x=1.  I.e., remember from calculus that\n",
        "$$e^x = 1 + x + \\frac{1}{2} x^2 + \\frac{1}{3!} x^3 + \\frac{1}{4!} x^4 + \\cdots.$$\n",
        "How many terms are necessary before the float stabilizes?  Use a loop, with a running product for the factorials and running sums for the series."
      ]
    },
    {
      "cell_type": "code",
      "metadata": {
        "id": "cH0ApCftU5yY",
        "outputId": "fb5d8eee-7b6f-4b3e-ab1a-39d4d60ae9b9",
        "colab": {
          "base_uri": "https://localhost:8080/"
        }
      },
      "source": [
        "from mpmath.libmp.libelefun import e_fixed\n",
        "#  Approximate e here.\n",
        "\n",
        "def e_approximation(x, terms):\n",
        "  res = 1\n",
        "  fact_num = 1\n",
        "  if terms > 1:\n",
        "    for i in range(1, terms):\n",
        "      fact_num *= i\n",
        "      res += (1/fact_num) * ((x) ** (i))\n",
        "  elif terms == 1:\n",
        "    return 1\n",
        "    \n",
        "  return res\n",
        "\n",
        "e_approximation(1, 7)\n"
      ],
      "execution_count": 1,
      "outputs": [
        {
          "output_type": "execute_result",
          "data": {
            "text/plain": [
              "2.7180555555555554"
            ]
          },
          "metadata": {},
          "execution_count": 1
        }
      ]
    },
    {
      "cell_type": "markdown",
      "source": [
        "In this function, the decimal becomes stabilized to the 3rd decimal place after the 7th iteration, or after computing 7 terms.\n"
      ],
      "metadata": {
        "id": "sZjEp7220JKW"
      }
    },
    {
      "cell_type": "markdown",
      "metadata": {
        "id": "YYhT-tDRU5yY"
      },
      "source": [
        "Next we will approximate pi, which is much more interesting.  We can try a few approaches.  For a series-approach (like e), we need a series that converges to pi.  A simple example is the arctangent atan(x).  Recall (precalculus!) that $atan(1) = \\pi/4$.  Moreover, the derivative of $atan(x)$ is $1 / (1+x^2)$.  \n",
        "\n",
        "1.  Figure out the Taylor series of $1 / (1+x^2)$ near $x=0$.  Note that this is a geometric series!  So you can use the formula $1 / (1-r) = 1 + r + r^2 + r^3 + \\cdots$. \n",
        "\n",
        "2.  Figure out the Taylor series of $atan(x)$ near $x=0$ by taking the antiderivative, term by term, of the above.\n",
        "\n",
        "3.  Try to estimate $\\pi$ with this series, using many terms of the series."
      ]
    },
    {
      "cell_type": "code",
      "metadata": {
        "id": "wYlwMQxBU5yY",
        "outputId": "9f4dbfec-2014-4d53-bee7-375341fcf9ec",
        "colab": {
          "base_uri": "https://localhost:8080/"
        }
      },
      "source": [
        "#  Approximate pi here!\n",
        "import math\n",
        "\n",
        "def approximate_pi(terms):\n",
        "  sign = -1\n",
        "  estimate = 0\n",
        "  \n",
        "  # evaluate @ x=1 for x - (x^3)/3 + (x^5)/5 - (x^7)/7 ...\n",
        "  for i in range(1, terms, 2):\n",
        "    sign *= -1\n",
        "    estimate += (sign) * ((1 ** i) / i)\n",
        "  \n",
        "  estimate *= 4 # above estimates pi/4\n",
        "  return estimate\n",
        "    \n",
        "\n",
        "\n",
        "approximate_pi(100000000)\n"
      ],
      "execution_count": 22,
      "outputs": [
        {
          "output_type": "execute_result",
          "data": {
            "text/plain": [
              "3.1415926335902506"
            ]
          },
          "metadata": {},
          "execution_count": 22
        }
      ]
    },
    {
      "cell_type": "markdown",
      "metadata": {
        "id": "77BvRTGFU5yY"
      },
      "source": [
        "Now we'll accelerate things a bit.  There's a famous formula of Machin (1706) who computed the first hundred digits of $\\pi$.  We'll use his identity:\n",
        "\n",
        "$\\pi/4 = 4 \\cdot atan(1/5) - atan(1 / 239)$.  \n",
        "\n",
        "This isn't obvious, but there's a tedious proof using sum/difference identities in trig.\n",
        "\n",
        "Try using this formula now to approximate $\\pi$, using your Taylor series for $atan(x)$.  It should require fewer terms."
      ]
    },
    {
      "cell_type": "code",
      "metadata": {
        "id": "71EwcYnMU5yY",
        "outputId": "6d8d14f1-8fdc-47b9-80e1-37150e10be09",
        "colab": {
          "base_uri": "https://localhost:8080/"
        }
      },
      "source": [
        "#  Approximate pi more quickly here!\n",
        "\n",
        "def approximate_pi_machin(x, y, terms):\n",
        "  sign = -1\n",
        "  estimate_x = 0\n",
        "  estimate_y = 0\n",
        "\n",
        "  for i in range(1, terms, 2):\n",
        "    sign *= -1\n",
        "    estimate_x += (sign) * ((x ** i) / i)\n",
        "    estimate_y += (sign) * ((y ** i) / i)\n",
        "\n",
        "  estimate = 4 * (4 * estimate_x - estimate_y)\n",
        "\n",
        "  return estimate\n",
        "\n",
        "\n",
        "approximate_pi_machin(1/5, 1/239, 10000)"
      ],
      "execution_count": 23,
      "outputs": [
        {
          "output_type": "execute_result",
          "data": {
            "text/plain": [
              "3.141592653589794"
            ]
          },
          "metadata": {},
          "execution_count": 23
        }
      ]
    },
    {
      "cell_type": "markdown",
      "metadata": {
        "id": "NazcANnNU5yY"
      },
      "source": [
        "Now let's compare this to **Archimedes' method**.  Archimedes approximated pi by looking at the perimeters $p(n)$ and $P(n)$ of ($2^n$)-gons inscribed in and circumscribed around a unit circle.  So $p(2)$ is the perimeter of a square inscribed in the unit circle.  $P(2)$ is the perimeter of a square circumscribed around a unit circle.\n",
        "\n",
        "Archimedes proved the following (not in the formulaic language of algebra):  For all $n \\geq 2$,\n",
        "\n",
        "(P-formula)  $P(n+1) = \\frac{2  p(n) P(n)}{p(n) + P(n)}$.\n",
        "\n",
        "(p-formula)  $p(n+1) = \\sqrt{ p(n)  P(n+1) }$.\n",
        "\n",
        "1.  Compute $p(2)$ and $P(2)$.\n",
        "\n",
        "2.  Use these formulas to compute $p(10)$ and $P(10)$.  Use this to get a good approximation for $\\pi$!\n",
        "\n",
        "We could use our previous sqrt function.  But here is a fancier high-precision approach.  \"mpmath\" is a Python package for high-precision calculation.  It should be accessible through Google Colab.  You can read the full documentation at http://mpmath.org/doc/current/\n",
        "\n",
        "First we load the package and print its status."
      ]
    },
    {
      "cell_type": "code",
      "metadata": {
        "id": "uJZZ9M_PU5yZ",
        "outputId": "cb08d569-ea71-4f61-b16c-0fd8e465493a",
        "colab": {
          "base_uri": "https://localhost:8080/"
        }
      },
      "source": [
        "from mpmath import *\n",
        "# print(mp)\n",
        "\n",
        "def archimedes(num):\n",
        "  big_P = 8\n",
        "  lit_p = 4 * sqrt(2)\n",
        "  if num != 2:\n",
        "    for i in range(2, num + 1):\n",
        "      next_big = (2 * lit_p * big_P)/(lit_p + big_P)\n",
        "      next_lit = sqrt(lit_p * next_big)\n",
        "\n",
        "      big_P = next_big\n",
        "      lit_p = next_lit\n",
        "\n",
        "    big_P *= 0.5\n",
        "    lit_p *= 0.5\n",
        "  # else:\n",
        "  #   pass\n",
        "\n",
        "  return big_P, lit_p\n",
        "\n",
        "print(f'big P:    {archimedes(10)[0]}')\n",
        "print(f'little p: {archimedes(10)[1]}')\n"
      ],
      "execution_count": 29,
      "outputs": [
        {
          "output_type": "stream",
          "name": "stdout",
          "text": [
            "big P:    3.14159511774959\n",
            "little p: 3.1415914215112\n"
          ]
        }
      ]
    },
    {
      "cell_type": "markdown",
      "metadata": {
        "id": "17mWwbgyU5yZ"
      },
      "source": [
        "The number mp.dps is (roughly) the number of decimal digits that mpmath will keep track of in its computations.  mp.prec is the binary precision, a bit more than 3 times the decimal precision.  We can change this to whatever we want."
      ]
    },
    {
      "cell_type": "code",
      "metadata": {
        "id": "f2aNKEWeU5yZ",
        "outputId": "d0830530-6e07-47f7-f706-787ee0fe3a7b",
        "colab": {
          "base_uri": "https://localhost:8080/"
        }
      },
      "source": [
        "mp.dps = 50 # Let's try 50 digits precision to start.\n",
        "print(mp)"
      ],
      "execution_count": 30,
      "outputs": [
        {
          "output_type": "stream",
          "name": "stdout",
          "text": [
            "Mpmath settings:\n",
            "  mp.prec = 169               [default: 53]\n",
            "  mp.dps = 50                 [default: 15]\n",
            "  mp.trap_complex = False     [default: False]\n"
          ]
        }
      ]
    },
    {
      "cell_type": "markdown",
      "metadata": {
        "id": "AVFYKq9hU5yZ"
      },
      "source": [
        "mpmath has a nice function for square roots.  Compare this to your approximation from before!"
      ]
    },
    {
      "cell_type": "code",
      "metadata": {
        "scrolled": true,
        "id": "IynhKMaLU5yZ",
        "outputId": "78613cdb-1c19-49a3-9d59-37a73526dc98",
        "colab": {
          "base_uri": "https://localhost:8080/"
        }
      },
      "source": [
        "sqrt(2)  # mpf(...) stands for an mp-float.  "
      ],
      "execution_count": 31,
      "outputs": [
        {
          "output_type": "execute_result",
          "data": {
            "text/plain": [
              "mpf('1.4142135623730950488016887242096980785696718753769468')"
            ]
          },
          "metadata": {},
          "execution_count": 31
        }
      ]
    },
    {
      "cell_type": "code",
      "metadata": {
        "id": "quMwWJJ3U5yZ",
        "outputId": "2b51425d-de42-4473-91a6-551d6b6a2414",
        "colab": {
          "base_uri": "https://localhost:8080/"
        }
      },
      "source": [
        "type(sqrt(2)) # mpmath stores numbers in its own types!"
      ],
      "execution_count": 32,
      "outputs": [
        {
          "output_type": "execute_result",
          "data": {
            "text/plain": [
              "mpmath.ctx_mp_python.mpf"
            ]
          },
          "metadata": {},
          "execution_count": 32
        }
      ]
    },
    {
      "cell_type": "code",
      "metadata": {
        "id": "3WEkkeNNU5yZ",
        "outputId": "1f15b770-7da5-4323-ffb2-4c9a0ec4c580",
        "colab": {
          "base_uri": "https://localhost:8080/"
        }
      },
      "source": [
        "4*mp.atan(1) # mpmath has the arctan built in.  This should be pretty close to pi!"
      ],
      "execution_count": 33,
      "outputs": [
        {
          "output_type": "execute_result",
          "data": {
            "text/plain": [
              "mpf('3.1415926535897932384626433832795028841971693993751068')"
            ]
          },
          "metadata": {},
          "execution_count": 33
        }
      ]
    },
    {
      "cell_type": "markdown",
      "metadata": {
        "id": "8oMFGUkiU5yZ"
      },
      "source": [
        "Now try Archimedes' approximation of pi.  Use the mpmath sqrt function along the way.  How many iterations do you need to get pi correct to 100 digits?  Compare this to the arctan-series (not the mpmath atan function) via Machin's formula."
      ]
    },
    {
      "cell_type": "code",
      "metadata": {
        "id": "ulLOs22VU5yZ"
      },
      "source": [
        "#  Explore and experiment.\n",
        "# Archimedes approx of pi is amove using mpmath"
      ],
      "execution_count": null,
      "outputs": []
    }
  ]
}